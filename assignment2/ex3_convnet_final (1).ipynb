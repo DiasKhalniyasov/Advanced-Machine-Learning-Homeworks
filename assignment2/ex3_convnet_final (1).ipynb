{
 "cells": [
  {
   "cell_type": "code",
   "execution_count": 1,
   "metadata": {
    "id": "JAG8Iiwl9189"
   },
   "outputs": [],
   "source": [
    "import torch\n",
    "import torch.nn as nn\n",
    "import torchvision\n",
    "import torchvision.transforms as transforms\n",
    "import numpy as np\n",
    "\n",
    "import matplotlib.pyplot as plt\n",
    "\n",
    "\n",
    "def weights_init(m):\n",
    "    if type(m) == nn.Linear:\n",
    "        m.weight.data.normal_(0.0, 1e-3)\n",
    "        m.bias.data.fill_(0.)\n",
    "\n",
    "def update_lr(optimizer, lr):\n",
    "    for param_group in optimizer.param_groups:\n",
    "        param_group['lr'] = lr\n"
   ]
  },
  {
   "cell_type": "code",
   "execution_count": 2,
   "metadata": {
    "colab": {
     "base_uri": "https://localhost:8080/"
    },
    "id": "FyHvidJC9-WT",
    "outputId": "89b1a52b-fbd6-442a-cf50-f377c8da90ae"
   },
   "outputs": [
    {
     "name": "stdout",
     "output_type": "stream",
     "text": [
      "Using device: cuda\n"
     ]
    }
   ],
   "source": [
    "# --------------------------------\n",
    "# Device configuration\n",
    "# --------------------------------\n",
    "device = torch.device('cuda' if torch.cuda.is_available() else 'cpu')\n",
    "print('Using device: %s'%device)"
   ]
  },
  {
   "cell_type": "code",
   "execution_count": 3,
   "metadata": {
    "colab": {
     "base_uri": "https://localhost:8080/"
    },
    "id": "7X82Lm0h-BV8",
    "outputId": "4e62c05c-736a-40f6-e05d-e8f614e5d6b1"
   },
   "outputs": [
    {
     "name": "stdout",
     "output_type": "stream",
     "text": [
      "[128, 512, 512, 512, 512]\n"
     ]
    }
   ],
   "source": [
    "#--------------------------------\n",
    "# Hyper-parameters\n",
    "#--------------------------------\n",
    "input_size = 3\n",
    "num_classes = 10\n",
    "hidden_size = [128, 512, 512, 512, 512]\n",
    "num_epochs = 20\n",
    "batch_size = 200\n",
    "learning_rate = 2e-3\n",
    "learning_rate_decay = 0.95\n",
    "reg=0.001\n",
    "num_training= 49000\n",
    "num_validation =1000\n",
    "norm_layer = None #norm_layer = 'BN'\n",
    "print(hidden_size)"
   ]
  },
  {
   "cell_type": "code",
   "execution_count": 4,
   "metadata": {
    "colab": {
     "base_uri": "https://localhost:8080/",
     "height": 82,
     "referenced_widgets": [
      "5edf04c57b874b09be16d802311ff7b4",
      "9b53c381277c4df890d9220618adc4c3",
      "9520398e74634acabd03f82398dc57c8",
      "520b585e6c554d90a1622d8b423d5119",
      "b56e472ba8894285b41064f738e850ab",
      "b8ca8c30ab0c4091b2d04a77d6506a77",
      "617c0bbacd424449b7ca94d7855eb1e6",
      "4dec222f476c44bb96893b971c3d5646",
      "b14d614fa6d44f60b356507844fd4e33",
      "205f053f911d416da49a04218eaaf435",
      "67a5efbb2dfc4e578f3de374e7f51b58"
     ]
    },
    "id": "nr8_4xXX-5Ku",
    "outputId": "34e7cdd6-aa0a-4710-ea04-143dc9ebb42f"
   },
   "outputs": [
    {
     "name": "stdout",
     "output_type": "stream",
     "text": [
      "Downloading https://www.cs.toronto.edu/~kriz/cifar-10-python.tar.gz to datasets/cifar-10-python.tar.gz\n"
     ]
    },
    {
     "data": {
      "application/vnd.jupyter.widget-view+json": {
       "model_id": "5edf04c57b874b09be16d802311ff7b4",
       "version_major": 2,
       "version_minor": 0
      },
      "text/plain": [
       "  0%|          | 0/170498071 [00:00<?, ?it/s]"
      ]
     },
     "metadata": {},
     "output_type": "display_data"
    },
    {
     "name": "stdout",
     "output_type": "stream",
     "text": [
      "Extracting datasets/cifar-10-python.tar.gz to datasets/\n"
     ]
    }
   ],
   "source": [
    "#-------------------------------------------------\n",
    "# Load the CIFAR-10 dataset\n",
    "#-------------------------------------------------\n",
    "#################################################################################\n",
    "# TODO: Q3.a Choose the right data augmentation transforms with the right       #\n",
    "# hyper-parameters and put them in the data_aug_transforms variable             #\n",
    "#################################################################################\n",
    "data_aug_transforms = []\n",
    "# *****START OF YOUR CODE (DO NOT DELETE/MODIFY THIS LINE)*****\n",
    "\n",
    "\n",
    "\n",
    "# *****END OF YOUR CODE (DO NOT DELETE/MODIFY THIS LINE)*****\n",
    "norm_transform = transforms.Compose(data_aug_transforms+[transforms.ToTensor(),\n",
    "                                     transforms.Normalize((0.5, 0.5, 0.5), (0.5, 0.5, 0.5))\n",
    "                                     ])\n",
    "test_transform = transforms.Compose([transforms.ToTensor(),\n",
    "                                     transforms.Normalize((0.5, 0.5, 0.5), (0.5, 0.5, 0.5))\n",
    "                                     ])\n",
    "cifar_dataset = torchvision.datasets.CIFAR10(root='datasets/',\n",
    "                                           train=True,\n",
    "                                           transform=norm_transform,\n",
    "                                           download=True)\n",
    "\n",
    "test_dataset = torchvision.datasets.CIFAR10(root='datasets/',\n",
    "                                          train=False,\n",
    "                                          transform=test_transform\n",
    "                                          )"
   ]
  },
  {
   "cell_type": "code",
   "execution_count": 5,
   "metadata": {
    "id": "5k_vzVa2NNsY"
   },
   "outputs": [],
   "source": [
    "\n",
    "\n",
    "#-------------------------------------------------\n",
    "# Prepare the training and validation splits\n",
    "#-------------------------------------------------\n",
    "mask = list(range(num_training))\n",
    "train_dataset = torch.utils.data.Subset(cifar_dataset, mask)\n",
    "mask = list(range(num_training, num_training + num_validation))\n",
    "val_dataset = torch.utils.data.Subset(cifar_dataset, mask)\n",
    "\n",
    "#-------------------------------------------------\n",
    "# Data loader\n",
    "#-------------------------------------------------\n",
    "train_loader = torch.utils.data.DataLoader(dataset=train_dataset,\n",
    "                                           batch_size=batch_size,\n",
    "                                           shuffle=True)\n",
    "\n",
    "val_loader = torch.utils.data.DataLoader(dataset=val_dataset,\n",
    "                                           batch_size=batch_size,\n",
    "                                           shuffle=False)\n",
    "\n",
    "test_loader = torch.utils.data.DataLoader(dataset=test_dataset,\n",
    "                                          batch_size=batch_size,\n",
    "                                          shuffle=False)"
   ]
  },
  {
   "cell_type": "markdown",
   "metadata": {
    "id": "XqeaYI6WlVfv"
   },
   "source": [
    "## Question 1.A."
   ]
  },
  {
   "cell_type": "markdown",
   "metadata": {
    "id": "laQWo_cN80Ya"
   },
   "source": [
    "### In the cell below, we are going to implement the architecture of our model as indicated in the instructions. "
   ]
  },
  {
   "cell_type": "code",
   "execution_count": null,
   "metadata": {
    "id": "BDl_IgEu_NLS"
   },
   "outputs": [],
   "source": [
    "#-------------------------------------------------\n",
    "# Convolutional neural network (Q1.a and Q2.a)\n",
    "# Set norm_layer for different networks whether using batch normalization\n",
    "#-------------------------------------------------\n",
    "class ConvNet(nn.Module):\n",
    "    def __init__(self, input_size, hidden_layers, num_classes, norm_layer=None):\n",
    "        super(ConvNet, self).__init__()\n",
    "        #################################################################################\n",
    "        # TODO: Initialize the modules required to implement the convolutional layer    #\n",
    "        # described in the exercise.                                                    #\n",
    "        # For Q1.a make use of conv2d and relu layers from the torch.nn module.         #\n",
    "        # For Q2.a make use of BatchNorm2d layer from the torch.nn module.              #\n",
    "        # For Q3.b Use Dropout layer from the torch.nn module.                          #\n",
    "        #################################################################################\n",
    "        \n",
    "        # *****START OF YOUR CODE (DO NOT DELETE/MODIFY THIS LINE)*****\n",
    "        self.cnn_layers = nn.Sequential(\n",
    "            # Defining the first 2d convolitional layer\n",
    "            nn.Conv2d(3,128 , kernel_size = 3, stride = 1, padding =1), # taking a padding and stride of size 1 and 1 will give us the same shape\n",
    "            nn.MaxPool2d(2, stride = 2),                                # this is what we need since  maxpooling will cut the matrix in half\n",
    "            nn.ReLU(),\n",
    "            # Defining the second 2d convolitional layer                             \n",
    "            nn.Conv2d(128, 512 , kernel_size = 3, stride = 1, padding =1),\n",
    "            nn.MaxPool2d(2, stride = 2), \n",
    "            nn.ReLU(), \n",
    "            # Defining the third 2d convolitional layer \n",
    "            nn.Conv2d(512, 512 , kernel_size = 3, stride = 1, padding =1),\n",
    "            nn.MaxPool2d(2, stride = 2), \n",
    "            nn.ReLU(), \n",
    "            # Defining the fourth 2d convolitional layer \n",
    "            nn.Conv2d(512, 512 , kernel_size = 3, stride = 1, padding =1),\n",
    "            nn.MaxPool2d(2, stride = 2), \n",
    "            nn.ReLU(), \n",
    "            # Defining the fifth 2d convolitional layer \n",
    "            nn.Conv2d(512, 512 , kernel_size = 3, stride = 1, padding =1),\n",
    "            nn.MaxPool2d(2, stride = 2), \n",
    "            nn.ReLU(),\n",
    "\n",
    "        )\n",
    "\n",
    "\n",
    "        self.linear_layers = nn.Sequential(\n",
    "            nn.Linear(512, 10)\n",
    "        )\n",
    "\n",
    "\n",
    "        # *****END OF YOUR CODE (DO NOT DELETE/MODIFY THIS LINE)*****\n",
    "\n",
    "    def forward(self, x):\n",
    "        #################################################################################\n",
    "        # TODO: Implement the forward pass computations                                 #\n",
    "        #################################################################################\n",
    "        # *****START OF YOUR CODE (DO NOT DELETE/MODIFY THIS LINE)*****\n",
    "        # conv layers\n",
    "        x = self.cnn_layers(x)\n",
    "        # flatten\n",
    "        x = x.view(x.size(0), -1)\n",
    "        # fully connected layer\n",
    "        out = self.linear_layers(x)\n",
    "      \n",
    "\n",
    "\n",
    "        # *****END OF YOUR CODE (DO NOT DELETE/MODIFY THIS LINE)*****\n",
    "        return out\n"
   ]
  },
  {
   "cell_type": "markdown",
   "metadata": {
    "id": "S9inPC1D9sar"
   },
   "source": [
    "###  Taking a filter with stride and padding corresponding to '1' will result in a matrix with the same size. This is what we need because max-poolinf filter with the given parameters will cut the matrix in half. "
   ]
  },
  {
   "cell_type": "code",
   "execution_count": null,
   "metadata": {
    "id": "HHThCBiyBNJI"
   },
   "outputs": [],
   "source": [
    "#======================================================================================\n",
    "# Q1.a: Implementing convolutional neural net in PyTorch\n",
    "#======================================================================================\n",
    "# In this question we will implement a convolutional neural networks using the PyTorch\n",
    "# library.  Please complete the code for the ConvNet class evaluating the model\n",
    "#--------------------------------------------------------------------------------------\n",
    "model = ConvNet(input_size, hidden_size, num_classes, norm_layer=norm_layer).to(device)"
   ]
  },
  {
   "cell_type": "code",
   "execution_count": null,
   "metadata": {
    "colab": {
     "base_uri": "https://localhost:8080/"
    },
    "id": "mkcb-hndBoOd",
    "outputId": "dab35a91-52a4-4e4c-d992-72e59bfdfd38"
   },
   "outputs": [
    {
     "name": "stdout",
     "output_type": "stream",
     "text": [
      "ConvNet(\n",
      "  (cnn_layers): Sequential(\n",
      "    (0): Conv2d(3, 128, kernel_size=(3, 3), stride=(1, 1), padding=(1, 1))\n",
      "    (1): MaxPool2d(kernel_size=2, stride=2, padding=0, dilation=1, ceil_mode=False)\n",
      "    (2): ReLU()\n",
      "    (3): Conv2d(128, 512, kernel_size=(3, 3), stride=(1, 1), padding=(1, 1))\n",
      "    (4): MaxPool2d(kernel_size=2, stride=2, padding=0, dilation=1, ceil_mode=False)\n",
      "    (5): ReLU()\n",
      "    (6): Conv2d(512, 512, kernel_size=(3, 3), stride=(1, 1), padding=(1, 1))\n",
      "    (7): MaxPool2d(kernel_size=2, stride=2, padding=0, dilation=1, ceil_mode=False)\n",
      "    (8): ReLU()\n",
      "    (9): Conv2d(512, 512, kernel_size=(3, 3), stride=(1, 1), padding=(1, 1))\n",
      "    (10): MaxPool2d(kernel_size=2, stride=2, padding=0, dilation=1, ceil_mode=False)\n",
      "    (11): ReLU()\n",
      "    (12): Conv2d(512, 512, kernel_size=(3, 3), stride=(1, 1), padding=(1, 1))\n",
      "    (13): MaxPool2d(kernel_size=2, stride=2, padding=0, dilation=1, ceil_mode=False)\n",
      "    (14): ReLU()\n",
      "  )\n",
      "  (linear_layers): Sequential(\n",
      "    (0): Linear(in_features=512, out_features=10, bias=True)\n",
      "  )\n",
      ")\n"
     ]
    }
   ],
   "source": [
    "model.apply(weights_init)\n",
    "# Print the model\n",
    "print(model)\n",
    "# Print model size"
   ]
  },
  {
   "cell_type": "markdown",
   "metadata": {
    "id": "rzspAO1jDFU6"
   },
   "source": [
    "### Below is a visualization of filters **before** the training\n",
    "\n",
    "\n"
   ]
  },
  {
   "cell_type": "code",
   "execution_count": null,
   "metadata": {
    "colab": {
     "base_uri": "https://localhost:8080/",
     "height": 592
    },
    "id": "eHmqD17TBqdX",
    "outputId": "77cfee41-24df-4020-e385-1373d66da958"
   },
   "outputs": [
    {
     "data": {
      "image/png": "[encoded data removed]",
      "text/plain": [
       "<Figure size 1440x720 with 128 Axes>"
      ]
     },
     "metadata": {
      "needs_background": "light"
     },
     "output_type": "display_data"
    }
   ],
   "source": [
    "\n",
    "#======================================================================================\n",
    "# Q1.a: Implementing the function to visualize the filters in the first conv layers.\n",
    "# Visualize the filters before training\n",
    "#======================================================================================\n",
    "VisualizeFilter(model)"
   ]
  },
  {
   "cell_type": "code",
   "execution_count": null,
   "metadata": {
    "colab": {
     "base_uri": "https://localhost:8080/"
    },
    "id": "oQMoJHUl9qrT",
    "outputId": "9bd18250-d181-4afb-baef-fde5e9136cc2"
   },
   "outputs": [
    {
     "name": "stderr",
     "output_type": "stream",
     "text": [
      "\r",
      "  0%|          | 0/20 [00:00<?, ?it/s]"
     ]
    },
    {
     "name": "stdout",
     "output_type": "stream",
     "text": [
      "Epoch [1/20], Step [100/245], Loss: 1.6137\n",
      "Epoch [1/20], Step [200/245], Loss: 1.4338\n"
     ]
    },
    {
     "name": "stderr",
     "output_type": "stream",
     "text": [
      "\r",
      "  5%|▌         | 1/20 [01:06<21:01, 66.37s/it]"
     ]
    },
    {
     "name": "stdout",
     "output_type": "stream",
     "text": [
      "Validation accuracy is: 55.7 %\n",
      "Epoch [2/20], Step [100/245], Loss: 1.4030\n",
      "Epoch [2/20], Step [200/245], Loss: 1.0574\n"
     ]
    },
    {
     "name": "stderr",
     "output_type": "stream",
     "text": [
      "\r",
      " 10%|█         | 2/20 [02:12<19:55, 66.40s/it]"
     ]
    },
    {
     "name": "stdout",
     "output_type": "stream",
     "text": [
      "Validation accuracy is: 64.2 %\n",
      "Epoch [3/20], Step [100/245], Loss: 0.8959\n",
      "Epoch [3/20], Step [200/245], Loss: 0.8669\n"
     ]
    },
    {
     "name": "stderr",
     "output_type": "stream",
     "text": [
      "\r",
      " 15%|█▌        | 3/20 [03:19<18:48, 66.39s/it]"
     ]
    },
    {
     "name": "stdout",
     "output_type": "stream",
     "text": [
      "Validation accuracy is: 66.6 %\n",
      "Epoch [4/20], Step [100/245], Loss: 0.8517\n",
      "Epoch [4/20], Step [200/245], Loss: 0.7100\n"
     ]
    },
    {
     "name": "stderr",
     "output_type": "stream",
     "text": [
      "\r",
      " 20%|██        | 4/20 [04:25<17:42, 66.38s/it]"
     ]
    },
    {
     "name": "stdout",
     "output_type": "stream",
     "text": [
      "Validation accuracy is: 71.4 %\n",
      "Epoch [5/20], Step [100/245], Loss: 0.8005\n",
      "Epoch [5/20], Step [200/245], Loss: 0.7099\n"
     ]
    },
    {
     "name": "stderr",
     "output_type": "stream",
     "text": [
      "\r",
      " 25%|██▌       | 5/20 [05:32<16:36, 66.42s/it]"
     ]
    },
    {
     "name": "stdout",
     "output_type": "stream",
     "text": [
      "Validation accuracy is: 74.6 %\n",
      "Epoch [6/20], Step [100/245], Loss: 0.7983\n",
      "Epoch [6/20], Step [200/245], Loss: 0.6076\n"
     ]
    },
    {
     "name": "stderr",
     "output_type": "stream",
     "text": [
      "\r",
      " 30%|███       | 6/20 [06:38<15:30, 66.46s/it]"
     ]
    },
    {
     "name": "stdout",
     "output_type": "stream",
     "text": [
      "Validation accuracy is: 77.3 %\n",
      "Epoch [7/20], Step [100/245], Loss: 0.6151\n",
      "Epoch [7/20], Step [200/245], Loss: 0.5127\n"
     ]
    },
    {
     "name": "stderr",
     "output_type": "stream",
     "text": [
      "\r",
      " 35%|███▌      | 7/20 [07:45<14:23, 66.46s/it]"
     ]
    },
    {
     "name": "stdout",
     "output_type": "stream",
     "text": [
      "Validation accuracy is: 78.3 %\n",
      "Epoch [8/20], Step [100/245], Loss: 0.5424\n",
      "Epoch [8/20], Step [200/245], Loss: 0.4485\n"
     ]
    },
    {
     "name": "stderr",
     "output_type": "stream",
     "text": [
      "\r",
      " 40%|████      | 8/20 [08:51<13:17, 66.48s/it]"
     ]
    },
    {
     "name": "stdout",
     "output_type": "stream",
     "text": [
      "Validation accuracy is: 80.0 %\n",
      "Epoch [9/20], Step [100/245], Loss: 0.5155\n",
      "Epoch [9/20], Step [200/245], Loss: 0.7650\n"
     ]
    },
    {
     "name": "stderr",
     "output_type": "stream",
     "text": [
      "\r",
      " 45%|████▌     | 9/20 [09:57<12:10, 66.45s/it]"
     ]
    },
    {
     "name": "stdout",
     "output_type": "stream",
     "text": [
      "Validation accuracy is: 80.3 %\n",
      "Epoch [10/20], Step [100/245], Loss: 0.4144\n",
      "Epoch [10/20], Step [200/245], Loss: 0.5995\n"
     ]
    },
    {
     "name": "stderr",
     "output_type": "stream",
     "text": [
      "\r",
      " 50%|█████     | 10/20 [11:04<11:04, 66.42s/it]"
     ]
    },
    {
     "name": "stdout",
     "output_type": "stream",
     "text": [
      "Validation accuracy is: 80.1 %\n",
      "Epoch [11/20], Step [100/245], Loss: 0.4476\n",
      "Epoch [11/20], Step [200/245], Loss: 0.3106\n"
     ]
    },
    {
     "name": "stderr",
     "output_type": "stream",
     "text": [
      "\r",
      " 55%|█████▌    | 11/20 [12:10<09:57, 66.39s/it]"
     ]
    },
    {
     "name": "stdout",
     "output_type": "stream",
     "text": [
      "Validation accuracy is: 81.1 %\n",
      "Epoch [12/20], Step [100/245], Loss: 0.2436\n",
      "Epoch [12/20], Step [200/245], Loss: 0.3629\n"
     ]
    },
    {
     "name": "stderr",
     "output_type": "stream",
     "text": [
      "\r",
      " 60%|██████    | 12/20 [13:17<08:51, 66.40s/it]"
     ]
    },
    {
     "name": "stdout",
     "output_type": "stream",
     "text": [
      "Validation accuracy is: 81.0 %\n",
      "Epoch [13/20], Step [100/245], Loss: 0.2058\n",
      "Epoch [13/20], Step [200/245], Loss: 0.3381\n"
     ]
    },
    {
     "name": "stderr",
     "output_type": "stream",
     "text": [
      "\r",
      " 65%|██████▌   | 13/20 [14:23<07:44, 66.41s/it]"
     ]
    },
    {
     "name": "stdout",
     "output_type": "stream",
     "text": [
      "Validation accuracy is: 80.9 %\n",
      "Epoch [14/20], Step [100/245], Loss: 0.2753\n",
      "Epoch [14/20], Step [200/245], Loss: 0.2795\n"
     ]
    },
    {
     "name": "stderr",
     "output_type": "stream",
     "text": [
      "\r",
      " 70%|███████   | 14/20 [15:29<06:38, 66.36s/it]"
     ]
    },
    {
     "name": "stdout",
     "output_type": "stream",
     "text": [
      "Validation accuracy is: 81.0 %\n",
      "Epoch [15/20], Step [100/245], Loss: 0.1885\n",
      "Epoch [15/20], Step [200/245], Loss: 0.2478\n"
     ]
    },
    {
     "name": "stderr",
     "output_type": "stream",
     "text": [
      "\r",
      " 75%|███████▌  | 15/20 [16:36<05:31, 66.38s/it]"
     ]
    },
    {
     "name": "stdout",
     "output_type": "stream",
     "text": [
      "Validation accuracy is: 82.2 %\n",
      "Epoch [16/20], Step [100/245], Loss: 0.2020\n",
      "Epoch [16/20], Step [200/245], Loss: 0.2112\n"
     ]
    },
    {
     "name": "stderr",
     "output_type": "stream",
     "text": [
      "\r",
      " 80%|████████  | 16/20 [17:42<04:25, 66.37s/it]"
     ]
    },
    {
     "name": "stdout",
     "output_type": "stream",
     "text": [
      "Validation accuracy is: 80.5 %\n",
      "Epoch [17/20], Step [100/245], Loss: 0.1807\n",
      "Epoch [17/20], Step [200/245], Loss: 0.1668\n"
     ]
    },
    {
     "name": "stderr",
     "output_type": "stream",
     "text": [
      "\r",
      " 85%|████████▌ | 17/20 [18:48<03:18, 66.33s/it]"
     ]
    },
    {
     "name": "stdout",
     "output_type": "stream",
     "text": [
      "Validation accuracy is: 79.0 %\n",
      "Epoch [18/20], Step [100/245], Loss: 0.1253\n",
      "Epoch [18/20], Step [200/245], Loss: 0.1705\n"
     ]
    },
    {
     "name": "stderr",
     "output_type": "stream",
     "text": [
      "\r",
      " 90%|█████████ | 18/20 [19:54<02:12, 66.31s/it]"
     ]
    },
    {
     "name": "stdout",
     "output_type": "stream",
     "text": [
      "Validation accuracy is: 80.3 %\n",
      "Epoch [19/20], Step [100/245], Loss: 0.0815\n",
      "Epoch [19/20], Step [200/245], Loss: 0.1087\n"
     ]
    },
    {
     "name": "stderr",
     "output_type": "stream",
     "text": [
      "\r",
      " 95%|█████████▌| 19/20 [21:01<01:06, 66.29s/it]"
     ]
    },
    {
     "name": "stdout",
     "output_type": "stream",
     "text": [
      "Validation accuracy is: 80.9 %\n",
      "Epoch [20/20], Step [100/245], Loss: 0.0833\n",
      "Epoch [20/20], Step [200/245], Loss: 0.0891\n"
     ]
    },
    {
     "name": "stderr",
     "output_type": "stream",
     "text": [
      "100%|██████████| 20/20 [22:07<00:00, 66.37s/it]"
     ]
    },
    {
     "name": "stdout",
     "output_type": "stream",
     "text": [
      "Validation accuracy is: 81.7 %\n"
     ]
    },
    {
     "name": "stderr",
     "output_type": "stream",
     "text": [
      "\n"
     ]
    }
   ],
   "source": [
    "\n",
    "# Loss and optimizer\n",
    "criterion = nn.CrossEntropyLoss()\n",
    "optimizer = torch.optim.Adam(model.parameters(), lr=learning_rate, weight_decay=reg)\n",
    "\n",
    "# Train the model\n",
    "lr = learning_rate\n",
    "total_step = len(train_loader)\n",
    "loss_train = []\n",
    "loss_val = []\n",
    "best_accuracy = None\n",
    "accuracy_val = []\n",
    "best_model = type(model)(input_size, hidden_size, num_classes, norm_layer=norm_layer) # get a new instance\n",
    "#best_model = ConvNet(input_size, hidden_size, num_classes, norm_layer=norm_layer)\n",
    "for epoch in tqdm(range(num_epochs)):\n",
    "\n",
    "    model.train()\n",
    "\n",
    "    loss_iter = 0\n",
    "    for i, (images, labels) in enumerate(train_loader):\n",
    "        # Move tensors to the configured device\n",
    "        images = images.to(device)\n",
    "        labels = labels.to(device)\n",
    "\n",
    "        # Forward pass\n",
    "        outputs = model(images)\n",
    "        loss = criterion(outputs, labels)\n",
    "\n",
    "        # Backward and optimize\n",
    "        optimizer.zero_grad()\n",
    "        loss.backward()\n",
    "        optimizer.step()\n",
    "\n",
    "        loss_iter += loss.item()\n",
    "        \n",
    "        if (i+1) % 100 == 0:\n",
    "            print ('Epoch [{}/{}], Step [{}/{}], Loss: {:.4f}'\n",
    "                   .format(epoch+1, num_epochs, i+1, total_step, loss.item()))\n",
    "            \n",
    "    loss_train.append(loss_iter/(len(train_loader)*batch_size))\n",
    "\n",
    "    \n",
    "    # Code to update the lr\n",
    "    lr *= learning_rate_decay\n",
    "    update_lr(optimizer, lr)\n",
    "    \n",
    "        \n",
    "    model.eval()\n",
    "    with torch.no_grad():\n",
    "        correct = 0\n",
    "        total = 0\n",
    "        loss_iter = 0\n",
    "        for images, labels in val_loader:\n",
    "            images = images.to(device)\n",
    "            labels = labels.to(device)\n",
    "            \n",
    "            outputs = model(images)\n",
    "            _, predicted = torch.max(outputs.data, 1)\n",
    "            \n",
    "            total += labels.size(0)\n",
    "            correct += (predicted == labels).sum().item()\n",
    "            \n",
    "            loss = criterion(outputs, labels)\n",
    "            loss_iter += loss.item()\n",
    "        \n",
    "        loss_val.append(loss_iter/(len(val_loader)*batch_size))\n",
    "\n",
    "        accuracy = 100 * correct / total\n",
    "        accuracy_val.append(accuracy)\n",
    "        print('Validation accuracy is: {} %'.format(accuracy))\n",
    "        #################################################################################\n",
    "        # TODO: Q2.b Implement the early stopping mechanism to save the model which has #\n",
    "        # the model with the best validation accuracy so-far (use best_model).          #\n",
    "        #################################################################################\n",
    "\n",
    "        # *****START OF YOUR CODE (DO NOT DELETE/MODIFY THIS LINE)*****\n",
    "\n",
    "        \n",
    "\n",
    "        # *****END OF YOUR CODE (DO NOT DELETE/MODIFY THIS LINE)*****\n",
    "\n",
    "    \n",
    "\n"
   ]
  },
  {
   "cell_type": "code",
   "execution_count": null,
   "metadata": {
    "colab": {
     "base_uri": "https://localhost:8080/",
     "height": 513
    },
    "id": "P833BOCQMmHy",
    "outputId": "c99d74b3-33b7-4778-b9bd-2eb6e0a37110"
   },
   "outputs": [
    {
     "data": {
      "image/png": "[encoded data removed]",
      "text/plain": [
       "<Figure size 432x288 with 1 Axes>"
      ]
     },
     "metadata": {
      "needs_background": "light"
     },
     "output_type": "display_data"
    },
    {
     "data": {
      "image/png": "[encoded data removed]",
      "text/plain": [
       "<Figure size 432x288 with 1 Axes>"
      ]
     },
     "metadata": {
      "needs_background": "light"
     },
     "output_type": "display_data"
    }
   ],
   "source": [
    "# Test the model\n",
    "# In test phase, we don't need to compute gradients (for memory efficiency)\n",
    "model.eval()\n",
    "\n",
    "\n",
    "\n",
    "plt.figure(2)\n",
    "plt.plot(loss_train, 'r', label='Train loss')\n",
    "plt.plot(loss_val, 'g', label='Val loss')\n",
    "plt.legend()\n",
    "plt.show()\n",
    "\n",
    "plt.figure(3)\n",
    "plt.plot(accuracy_val, 'r', label='Val accuracy')\n",
    "plt.legend()\n",
    "plt.show()"
   ]
  },
  {
   "cell_type": "code",
   "execution_count": null,
   "metadata": {
    "colab": {
     "base_uri": "https://localhost:8080/"
    },
    "id": "pl-k2CxanWFj",
    "outputId": "f57db90b-58cc-439e-b532-8cd78ef50804"
   },
   "outputs": [
    {
     "name": "stdout",
     "output_type": "stream",
     "text": [
      "Accuracy of the network on the 1000 test images: 81.1 %\n"
     ]
    }
   ],
   "source": [
    "\n",
    "#Compute accuracy on the test set\n",
    "with torch.no_grad():\n",
    "    correct = 0\n",
    "    total = 0\n",
    "    for images, labels in test_loader:\n",
    "        images = images.to(device)\n",
    "        labels = labels.to(device)\n",
    "        outputs = model(images)\n",
    "        _, predicted = torch.max(outputs.data, 1)\n",
    "        total += labels.size(0)\n",
    "        correct += (predicted == labels).sum().item()\n",
    "        if total == 1000:\n",
    "            break\n",
    "\n",
    "    print('Accuracy of the network on the {} test images: {} %'.format(total, 100 * correct / total))"
   ]
  },
  {
   "cell_type": "markdown",
   "metadata": {
    "id": "TRc_GcPDC6wA"
   },
   "source": [
    "### Below is a visualization of filters **after** the training"
   ]
  },
  {
   "cell_type": "code",
   "execution_count": null,
   "metadata": {
    "colab": {
     "base_uri": "https://localhost:8080/",
     "height": 592
    },
    "id": "D8SljiDXneTs",
    "outputId": "4ff767a3-986c-4a4d-b85a-f70cc8404dcf"
   },
   "outputs": [
    {
     "data": {
      "image/png": "[encoded data removed]",
      "text/plain": [
       "<Figure size 1440x720 with 128 Axes>"
      ]
     },
     "metadata": {
      "needs_background": "light"
     },
     "output_type": "display_data"
    }
   ],
   "source": [
    "#======================================================================================\n",
    "# Q1.a: Implementing the function to visualize the filters in the first conv layers.\n",
    "#======================================================================================\n",
    "VisualizeFilter(model)"
   ]
  },
  {
   "cell_type": "markdown",
   "metadata": {
    "id": "6Gw2IV-YBZTv"
   },
   "source": [
    "## 1.B. In this part, model size is calcuated."
   ]
  },
  {
   "cell_type": "code",
   "execution_count": null,
   "metadata": {
    "id": "XA8qrlxdA48x"
   },
   "outputs": [],
   "source": [
    "#-------------------------------------------------\n",
    "# Calculate the model size (Q1.b)\n",
    "# if disp is true, print the model parameters, otherwise, only return the number of parameters.\n",
    "#-------------------------------------------------\n",
    "def PrintModelSize(model, disp=True):\n",
    "    #################################################################################\n",
    "    # TODO: Implement the function to count the number of trainable parameters in   #\n",
    "    # the input model. This useful to track the capacity of the model you are       #\n",
    "    # training                                                                      #\n",
    "    #################################################################################\n",
    "    # *****START OF YOUR CODE (DO NOT DELETE/MODIFY THIS LINE)*****\n",
    "\n",
    "    model_sz = sum(p.numel() for p in model.parameters() if p.requires_grad)\n",
    "\n",
    "    # *****END OF YOUR CODE (DO NOT DELETE/MODIFY THIS LINE)*****\n",
    "    return model_sz"
   ]
  },
  {
   "cell_type": "code",
   "execution_count": null,
   "metadata": {
    "colab": {
     "base_uri": "https://localhost:8080/"
    },
    "id": "YyfB_2NJKXSe",
    "outputId": "266fadcd-1400-4a2a-ea92-15ba63ac55df"
   },
   "outputs": [
    {
     "data": {
      "text/plain": [
       "7678474"
      ]
     },
     "execution_count": 10,
     "metadata": {},
     "output_type": "execute_result"
    }
   ],
   "source": [
    "\n",
    "#======================================================================================\n",
    "# Q1.b: Implementing the function to count the number of trainable parameters in the model\n",
    "#======================================================================================\n",
    "PrintModelSize(model)"
   ]
  },
  {
   "cell_type": "markdown",
   "metadata": {
    "id": "6aewC_gKCiQL"
   },
   "source": [
    "## 1.C. In this part, function for visualization of filters is built"
   ]
  },
  {
   "cell_type": "code",
   "execution_count": null,
   "metadata": {
    "id": "jd97ZV1ABDFz"
   },
   "outputs": [],
   "source": [
    "\n",
    "#-------------------------------------------------\n",
    "# Calculate the model size (Q1.c)\n",
    "# visualize the convolution filters of the first convolution layer of the input model\n",
    "#-------------------------------------------------\n",
    "def VisualizeFilter(model):\n",
    "    #################################################################################\n",
    "    # TODO: Implement the functiont to visualize the weights in the first conv layer#\n",
    "    # in the model. Visualize them as a single image of stacked filters.            #\n",
    "    # You can use matlplotlib.imshow to visualize an image in python                #\n",
    "    #################################################################################\n",
    "    # *****START OF YOUR CODE (DO NOT DELETE/MODIFY THIS LINE)*****\n",
    "    w = model.cnn_layers[0].weight.cpu().data.numpy()\n",
    "    filters = np.interp(w, (w.min(), w.max()), (0, 1))\n",
    "\n",
    "    fig,axs=plt.subplots(8,16, figsize = (20, 10))\n",
    "    \n",
    "    axs=axs.ravel()\n",
    "    for i in range(len(filters)):\n",
    "        axs[i].imshow((filters[i]*255.0).astype(np.uint8))\n",
    "    \n",
    "    pass\n",
    "\n",
    "    # *****END OF YOUR CODE (DO NOT DELETE/MODIFY THIS LINE)*****"
   ]
  },
  {
   "cell_type": "code",
   "execution_count": null,
   "metadata": {
    "id": "pAQyWrBNi_67"
   },
   "outputs": [],
   "source": [
    "from tqdm import tqdm"
   ]
  },
  {
   "cell_type": "markdown",
   "metadata": {
    "id": "ETbwWvqIr5ma"
   },
   "source": [
    "Visualization of filters after training "
   ]
  },
  {
   "cell_type": "markdown",
   "metadata": {
    "id": "CwtKD98anglh"
   },
   "source": [
    "## Question 2.A."
   ]
  },
  {
   "cell_type": "code",
   "execution_count": null,
   "metadata": {
    "colab": {
     "base_uri": "https://localhost:8080/"
    },
    "id": "VKsufgp6zu2H",
    "outputId": "3df9a0b1-aad0-4323-da21-2b53f22a42cc"
   },
   "outputs": [
    {
     "name": "stdout",
     "output_type": "stream",
     "text": [
      "Using device: cuda\n"
     ]
    }
   ],
   "source": [
    "# --------------------------------\n",
    "# Device configuration\n",
    "# --------------------------------\n",
    "device = torch.device('cuda' if torch.cuda.is_available() else 'cpu')\n",
    "print('Using device: %s'%device)"
   ]
  },
  {
   "cell_type": "code",
   "execution_count": null,
   "metadata": {
    "colab": {
     "base_uri": "https://localhost:8080/"
    },
    "id": "Q9JGAUMEz4SZ",
    "outputId": "ef874c16-f186-4a05-9565-20ceb98b52cd"
   },
   "outputs": [
    {
     "name": "stdout",
     "output_type": "stream",
     "text": [
      "[128, 512, 512, 512, 512]\n"
     ]
    }
   ],
   "source": [
    "#--------------------------------\n",
    "# Hyper-parameters\n",
    "#--------------------------------\n",
    "input_size = 3\n",
    "num_classes = 10\n",
    "hidden_size = [128, 512, 512, 512, 512]\n",
    "num_epochs = 20\n",
    "batch_size = 200\n",
    "learning_rate = 2e-3\n",
    "learning_rate_decay = 0.95\n",
    "reg=0.001\n",
    "num_training= 49000\n",
    "num_validation =1000\n",
    "norm_layer = None #norm_layer = 'BN'\n",
    "print(hidden_size)"
   ]
  },
  {
   "cell_type": "markdown",
   "metadata": {
    "id": "9NDXt7bQvMG9"
   },
   "source": [
    "### In this cell, the only modification I make is that I add batch normalization in each convolution layer. Further, I  compare the loss curves and accuracy"
   ]
  },
  {
   "cell_type": "code",
   "execution_count": null,
   "metadata": {
    "id": "4eLsvBrpBYD0"
   },
   "outputs": [],
   "source": [
    "# Q2.a - Initialize the model with correct batch norm layer\n",
    "\n",
    "class ConvNet(nn.Module):\n",
    "    def __init__(self, input_size, hidden_layers, num_classes, norm_layer=None):\n",
    "        super(ConvNet, self).__init__()\n",
    "\n",
    "       \n",
    "        # *****START OF YOUR CODE (DO NOT DELETE/MODIFY THIS LINE)*****\n",
    "        self.cnn_layers = nn.Sequential(\n",
    "            # Defining the first 2d convolitional layer\n",
    "            nn.Conv2d(3,128 , kernel_size = 3, stride = 1, padding =1),\n",
    "            nn.BatchNorm2d(128),\n",
    "            nn.MaxPool2d(2, stride = 2),                                \n",
    "            nn.ReLU(),\n",
    "            # Defining the second 2d convolitional layer                             \n",
    "            nn.Conv2d(128, 512 , kernel_size = 3, stride = 1, padding =1),\n",
    "            nn.BatchNorm2d(512),\n",
    "            nn.MaxPool2d(2, stride = 2), \n",
    "            nn.ReLU(), \n",
    "            # Defining the third 2d convolitional layer \n",
    "            nn.Conv2d(512, 512 , kernel_size = 3, stride = 1, padding =1),\n",
    "            nn.BatchNorm2d(512),\n",
    "            nn.MaxPool2d(2, stride = 2), \n",
    "            nn.ReLU(), \n",
    "            # Defining the fourth 2d convolitional layer \n",
    "            nn.Conv2d(512, 512 , kernel_size = 3, stride = 1, padding =1),\n",
    "            nn.BatchNorm2d(512),\n",
    "            nn.MaxPool2d(2, stride = 2), \n",
    "            nn.ReLU(), \n",
    "            # Defining the fifth 2d convolitional layer \n",
    "            nn.Conv2d(512, 512 , kernel_size = 3, stride = 1, padding =1),\n",
    "            nn.BatchNorm2d(512),\n",
    "            nn.MaxPool2d(2, stride = 2), \n",
    "            nn.ReLU(),\n",
    "\n",
    "        )\n",
    "\n",
    "\n",
    "        self.linear_layers = nn.Sequential(\n",
    "            nn.Linear(512, 10)\n",
    "        )\n",
    "\n",
    "\n",
    "        # *****END OF YOUR CODE (DO NOT DELETE/MODIFY THIS LINE)*****\n",
    "\n",
    "    def forward(self, x):\n",
    "        #################################################################################\n",
    "        # TODO: Implement the forward pass computations                                 #\n",
    "        #################################################################################\n",
    "        # *****START OF YOUR CODE (DO NOT DELETE/MODIFY THIS LINE)*****\n",
    "        \n",
    "        x = self.cnn_layers(x)\n",
    "        \n",
    "        x = x.view(x.size(0), -1)\n",
    "      \n",
    "        out = self.linear_layers(x)\n",
    "      \n",
    "\n",
    "\n",
    "        # *****END OF YOUR CODE (DO NOT DELETE/MODIFY THIS LINE)*****\n",
    "        return out\n"
   ]
  },
  {
   "cell_type": "code",
   "execution_count": null,
   "metadata": {
    "colab": {
     "base_uri": "https://localhost:8080/"
    },
    "id": "_pS0IKFvsUwB",
    "outputId": "d4d67c32-5301-4fd7-e619-a8385c7744fe"
   },
   "outputs": [
    {
     "name": "stdout",
     "output_type": "stream",
     "text": [
      "ConvNet(\n",
      "  (cnn_layers): Sequential(\n",
      "    (0): Conv2d(3, 128, kernel_size=(3, 3), stride=(1, 1), padding=(1, 1))\n",
      "    (1): BatchNorm2d(128, eps=1e-05, momentum=0.1, affine=True, track_running_stats=True)\n",
      "    (2): MaxPool2d(kernel_size=2, stride=2, padding=0, dilation=1, ceil_mode=False)\n",
      "    (3): ReLU()\n",
      "    (4): Conv2d(128, 512, kernel_size=(3, 3), stride=(1, 1), padding=(1, 1))\n",
      "    (5): BatchNorm2d(512, eps=1e-05, momentum=0.1, affine=True, track_running_stats=True)\n",
      "    (6): MaxPool2d(kernel_size=2, stride=2, padding=0, dilation=1, ceil_mode=False)\n",
      "    (7): ReLU()\n",
      "    (8): Conv2d(512, 512, kernel_size=(3, 3), stride=(1, 1), padding=(1, 1))\n",
      "    (9): BatchNorm2d(512, eps=1e-05, momentum=0.1, affine=True, track_running_stats=True)\n",
      "    (10): MaxPool2d(kernel_size=2, stride=2, padding=0, dilation=1, ceil_mode=False)\n",
      "    (11): ReLU()\n",
      "    (12): Conv2d(512, 512, kernel_size=(3, 3), stride=(1, 1), padding=(1, 1))\n",
      "    (13): BatchNorm2d(512, eps=1e-05, momentum=0.1, affine=True, track_running_stats=True)\n",
      "    (14): MaxPool2d(kernel_size=2, stride=2, padding=0, dilation=1, ceil_mode=False)\n",
      "    (15): ReLU()\n",
      "    (16): Conv2d(512, 512, kernel_size=(3, 3), stride=(1, 1), padding=(1, 1))\n",
      "    (17): BatchNorm2d(512, eps=1e-05, momentum=0.1, affine=True, track_running_stats=True)\n",
      "    (18): MaxPool2d(kernel_size=2, stride=2, padding=0, dilation=1, ceil_mode=False)\n",
      "    (19): ReLU()\n",
      "  )\n",
      "  (linear_layers): Sequential(\n",
      "    (0): Linear(in_features=512, out_features=10, bias=True)\n",
      "  )\n",
      ")\n"
     ]
    }
   ],
   "source": [
    "model = ConvNet(input_size, hidden_size, num_classes, norm_layer=\"BN\").to(device)\n",
    "# Q2.a - Initialize the model with correct batch norm layer\n",
    "\n",
    "model.apply(weights_init)\n",
    "# Print the model\n",
    "print(model)"
   ]
  },
  {
   "cell_type": "code",
   "execution_count": null,
   "metadata": {
    "colab": {
     "base_uri": "https://localhost:8080/"
    },
    "id": "aOBHQ0betkV0",
    "outputId": "8dffb816-0113-4ae0-b9d4-75b97f4e1ca6"
   },
   "outputs": [
    {
     "metadata": {
      "tags": null
     },
     "name": "stderr",
     "output_type": "stream",
     "text": [
      "\r",
      "  0%|          | 0/20 [00:00<?, ?it/s]"
     ]
    },
    {
     "metadata": {
      "tags": null
     },
     "name": "stdout",
     "output_type": "stream",
     "text": [
      "Epoch [1/20], Step [100/245], Loss: 1.3465\n",
      "Epoch [1/20], Step [200/245], Loss: 1.0849\n"
     ]
    },
    {
     "metadata": {
      "tags": null
     },
     "name": "stderr",
     "output_type": "stream",
     "text": [
      "\r",
      "  5%|▌         | 1/20 [01:10<22:25, 70.81s/it]"
     ]
    },
    {
     "metadata": {
      "tags": null
     },
     "name": "stdout",
     "output_type": "stream",
     "text": [
      "Validation accuracy is: 48.5 %\n",
      "Epoch [2/20], Step [100/245], Loss: 1.0178\n",
      "Epoch [2/20], Step [200/245], Loss: 0.8747\n"
     ]
    },
    {
     "metadata": {
      "tags": null
     },
     "name": "stderr",
     "output_type": "stream",
     "text": [
      "\r",
      " 10%|█         | 2/20 [02:21<21:17, 70.97s/it]"
     ]
    },
    {
     "metadata": {
      "tags": null
     },
     "name": "stdout",
     "output_type": "stream",
     "text": [
      "Validation accuracy is: 65.5 %\n",
      "Epoch [3/20], Step [100/245], Loss: 0.7415\n",
      "Epoch [3/20], Step [200/245], Loss: 0.7289\n"
     ]
    },
    {
     "metadata": {
      "tags": null
     },
     "name": "stderr",
     "output_type": "stream",
     "text": [
      "\r",
      " 15%|█▌        | 3/20 [03:33<20:08, 71.07s/it]"
     ]
    },
    {
     "metadata": {
      "tags": null
     },
     "name": "stdout",
     "output_type": "stream",
     "text": [
      "Validation accuracy is: 67.8 %\n",
      "Epoch [4/20], Step [100/245], Loss: 0.6530\n",
      "Epoch [4/20], Step [200/245], Loss: 0.7845\n"
     ]
    },
    {
     "metadata": {
      "tags": null
     },
     "name": "stderr",
     "output_type": "stream",
     "text": [
      "\r",
      " 20%|██        | 4/20 [04:43<18:55, 70.94s/it]"
     ]
    },
    {
     "metadata": {
      "tags": null
     },
     "name": "stdout",
     "output_type": "stream",
     "text": [
      "Validation accuracy is: 66.8 %\n",
      "Epoch [5/20], Step [100/245], Loss: 0.4706\n",
      "Epoch [5/20], Step [200/245], Loss: 0.6914\n"
     ]
    },
    {
     "metadata": {
      "tags": null
     },
     "name": "stderr",
     "output_type": "stream",
     "text": [
      "\r",
      " 25%|██▌       | 5/20 [05:54<17:43, 70.90s/it]"
     ]
    },
    {
     "metadata": {
      "tags": null
     },
     "name": "stdout",
     "output_type": "stream",
     "text": [
      "Validation accuracy is: 73.0 %\n",
      "Epoch [6/20], Step [100/245], Loss: 0.5300\n",
      "Epoch [6/20], Step [200/245], Loss: 0.5655\n"
     ]
    },
    {
     "metadata": {
      "tags": null
     },
     "name": "stderr",
     "output_type": "stream",
     "text": [
      "\r",
      " 30%|███       | 6/20 [07:04<16:29, 70.71s/it]"
     ]
    },
    {
     "metadata": {
      "tags": null
     },
     "name": "stdout",
     "output_type": "stream",
     "text": [
      "Validation accuracy is: 78.1 %\n",
      "Epoch [7/20], Step [100/245], Loss: 0.3907\n",
      "Epoch [7/20], Step [200/245], Loss: 0.4254\n"
     ]
    },
    {
     "metadata": {
      "tags": null
     },
     "name": "stderr",
     "output_type": "stream",
     "text": [
      "\r",
      " 35%|███▌      | 7/20 [08:14<15:15, 70.40s/it]"
     ]
    },
    {
     "metadata": {
      "tags": null
     },
     "name": "stdout",
     "output_type": "stream",
     "text": [
      "Validation accuracy is: 76.7 %\n",
      "Epoch [8/20], Step [100/245], Loss: 0.5299\n",
      "Epoch [8/20], Step [200/245], Loss: 0.4357\n"
     ]
    },
    {
     "metadata": {
      "tags": null
     },
     "name": "stderr",
     "output_type": "stream",
     "text": [
      "\r",
      " 40%|████      | 8/20 [09:24<14:02, 70.21s/it]"
     ]
    },
    {
     "metadata": {
      "tags": null
     },
     "name": "stdout",
     "output_type": "stream",
     "text": [
      "Validation accuracy is: 74.1 %\n",
      "Epoch [9/20], Step [100/245], Loss: 0.2343\n",
      "Epoch [9/20], Step [200/245], Loss: 0.3988\n"
     ]
    },
    {
     "metadata": {
      "tags": null
     },
     "name": "stderr",
     "output_type": "stream",
     "text": [
      "\r",
      " 45%|████▌     | 9/20 [10:33<12:49, 69.96s/it]"
     ]
    },
    {
     "metadata": {
      "tags": null
     },
     "name": "stdout",
     "output_type": "stream",
     "text": [
      "Validation accuracy is: 81.4 %\n",
      "Epoch [10/20], Step [100/245], Loss: 0.2257\n",
      "Epoch [10/20], Step [200/245], Loss: 0.2564\n"
     ]
    },
    {
     "metadata": {
      "tags": null
     },
     "name": "stderr",
     "output_type": "stream",
     "text": [
      "\r",
      " 50%|█████     | 10/20 [11:43<11:37, 69.77s/it]"
     ]
    },
    {
     "metadata": {
      "tags": null
     },
     "name": "stdout",
     "output_type": "stream",
     "text": [
      "Validation accuracy is: 79.0 %\n",
      "Epoch [11/20], Step [100/245], Loss: 0.2640\n",
      "Epoch [11/20], Step [200/245], Loss: 0.2688\n"
     ]
    },
    {
     "metadata": {
      "tags": null
     },
     "name": "stderr",
     "output_type": "stream",
     "text": [
      "\r",
      " 55%|█████▌    | 11/20 [12:52<10:26, 69.57s/it]"
     ]
    },
    {
     "metadata": {
      "tags": null
     },
     "name": "stdout",
     "output_type": "stream",
     "text": [
      "Validation accuracy is: 77.1 %\n",
      "Epoch [12/20], Step [100/245], Loss: 0.2427\n",
      "Epoch [12/20], Step [200/245], Loss: 0.1813\n"
     ]
    },
    {
     "metadata": {
      "tags": null
     },
     "name": "stderr",
     "output_type": "stream",
     "text": [
      "\r",
      " 60%|██████    | 12/20 [14:01<09:16, 69.52s/it]"
     ]
    },
    {
     "metadata": {
      "tags": null
     },
     "name": "stdout",
     "output_type": "stream",
     "text": [
      "Validation accuracy is: 80.8 %\n",
      "Epoch [13/20], Step [100/245], Loss: 0.0795\n",
      "Epoch [13/20], Step [200/245], Loss: 0.2021\n"
     ]
    },
    {
     "metadata": {
      "tags": null
     },
     "name": "stderr",
     "output_type": "stream",
     "text": [
      "\r",
      " 65%|██████▌   | 13/20 [15:11<08:05, 69.43s/it]"
     ]
    },
    {
     "metadata": {
      "tags": null
     },
     "name": "stdout",
     "output_type": "stream",
     "text": [
      "Validation accuracy is: 80.6 %\n",
      "Epoch [14/20], Step [100/245], Loss: 0.1029\n",
      "Epoch [14/20], Step [200/245], Loss: 0.1782\n"
     ]
    },
    {
     "metadata": {
      "tags": null
     },
     "name": "stderr",
     "output_type": "stream",
     "text": [
      "\r",
      " 70%|███████   | 14/20 [16:19<06:55, 69.24s/it]"
     ]
    },
    {
     "metadata": {
      "tags": null
     },
     "name": "stdout",
     "output_type": "stream",
     "text": [
      "Validation accuracy is: 80.1 %\n",
      "Epoch [15/20], Step [100/245], Loss: 0.1470\n",
      "Epoch [15/20], Step [200/245], Loss: 0.1411\n"
     ]
    },
    {
     "metadata": {
      "tags": null
     },
     "name": "stderr",
     "output_type": "stream",
     "text": [
      "\r",
      " 75%|███████▌  | 15/20 [17:28<05:45, 69.12s/it]"
     ]
    },
    {
     "metadata": {
      "tags": null
     },
     "name": "stdout",
     "output_type": "stream",
     "text": [
      "Validation accuracy is: 81.4 %\n",
      "Epoch [16/20], Step [100/245], Loss: 0.0780\n",
      "Epoch [16/20], Step [200/245], Loss: 0.1449\n"
     ]
    },
    {
     "metadata": {
      "tags": null
     },
     "name": "stderr",
     "output_type": "stream",
     "text": [
      "\r",
      " 80%|████████  | 16/20 [18:37<04:35, 69.00s/it]"
     ]
    },
    {
     "metadata": {
      "tags": null
     },
     "name": "stdout",
     "output_type": "stream",
     "text": [
      "Validation accuracy is: 79.8 %\n",
      "Epoch [17/20], Step [100/245], Loss: 0.1430\n",
      "Epoch [17/20], Step [200/245], Loss: 0.1184\n"
     ]
    },
    {
     "metadata": {
      "tags": null
     },
     "name": "stderr",
     "output_type": "stream",
     "text": [
      "\r",
      " 85%|████████▌ | 17/20 [19:46<03:27, 69.01s/it]"
     ]
    },
    {
     "metadata": {
      "tags": null
     },
     "name": "stdout",
     "output_type": "stream",
     "text": [
      "Validation accuracy is: 80.0 %\n",
      "Epoch [18/20], Step [100/245], Loss: 0.0541\n",
      "Epoch [18/20], Step [200/245], Loss: 0.0828\n"
     ]
    },
    {
     "metadata": {
      "tags": null
     },
     "name": "stderr",
     "output_type": "stream",
     "text": [
      "\r",
      " 90%|█████████ | 18/20 [20:55<02:17, 68.93s/it]"
     ]
    },
    {
     "metadata": {
      "tags": null
     },
     "name": "stdout",
     "output_type": "stream",
     "text": [
      "Validation accuracy is: 81.3 %\n",
      "Epoch [19/20], Step [100/245], Loss: 0.0396\n",
      "Epoch [19/20], Step [200/245], Loss: 0.0921\n"
     ]
    },
    {
     "metadata": {
      "tags": null
     },
     "name": "stderr",
     "output_type": "stream",
     "text": [
      "\r",
      " 95%|█████████▌| 19/20 [22:03<01:08, 68.84s/it]"
     ]
    },
    {
     "name": "stdout",
     "output_type": "stream",
     "text": [
      "Validation accuracy is: 79.7 %\n",
      "Epoch [20/20], Step [100/245], Loss: 0.0827\n",
      "Epoch [20/20], Step [200/245], Loss: 0.1211\n"
     ]
    },
    {
     "name": "stderr",
     "output_type": "stream",
     "text": [
      "100%|██████████| 20/20 [23:12<00:00, 69.63s/it]"
     ]
    },
    {
     "name": "stdout",
     "output_type": "stream",
     "text": [
      "Validation accuracy is: 81.1 %\n"
     ]
    },
    {
     "name": "stderr",
     "output_type": "stream",
     "text": [
      "\n"
     ]
    }
   ],
   "source": [
    "# Loss and optimizer\n",
    "criterion = nn.CrossEntropyLoss()\n",
    "optimizer = torch.optim.Adam(model.parameters(), lr=learning_rate, weight_decay=reg)\n",
    "\n",
    "# Train the model\n",
    "lr = learning_rate\n",
    "total_step = len(train_loader)\n",
    "loss_train = []\n",
    "loss_val = []\n",
    "best_accuracy = None\n",
    "accuracy_val = []\n",
    "best_model = type(model)(input_size, hidden_size, num_classes, norm_layer=norm_layer) # get a new instance\n",
    "#best_model = ConvNet(input_size, hidden_size, num_classes, norm_layer=norm_layer)\n",
    "for epoch in tqdm(range(num_epochs)):\n",
    "\n",
    "    model.train()\n",
    "\n",
    "    loss_iter = 0\n",
    "    for i, (images, labels) in enumerate(train_loader):\n",
    "        # Move tensors to the configured device\n",
    "        images = images.to(device)\n",
    "        labels = labels.to(device)\n",
    "\n",
    "        # Forward pass\n",
    "        outputs = model(images)\n",
    "        loss = criterion(outputs, labels)\n",
    "\n",
    "        # Backward and optimize\n",
    "        optimizer.zero_grad()\n",
    "        loss.backward()\n",
    "        optimizer.step()\n",
    "\n",
    "        loss_iter += loss.item()\n",
    "        \n",
    "        if (i+1) % 100 == 0:\n",
    "            print ('Epoch [{}/{}], Step [{}/{}], Loss: {:.4f}'\n",
    "                   .format(epoch+1, num_epochs, i+1, total_step, loss.item()))\n",
    "            \n",
    "    loss_train.append(loss_iter/(len(train_loader)*batch_size))\n",
    "\n",
    "    \n",
    "    # Code to update the lr\n",
    "    lr *= learning_rate_decay\n",
    "    update_lr(optimizer, lr)\n",
    "    \n",
    "        \n",
    "    model.eval()\n",
    "    with torch.no_grad():\n",
    "        correct = 0\n",
    "        total = 0\n",
    "        loss_iter = 0\n",
    "        for images, labels in val_loader:\n",
    "            images = images.to(device)\n",
    "            labels = labels.to(device)\n",
    "            \n",
    "            outputs = model(images)\n",
    "            _, predicted = torch.max(outputs.data, 1)\n",
    "            \n",
    "            total += labels.size(0)\n",
    "            correct += (predicted == labels).sum().item()\n",
    "            \n",
    "            loss = criterion(outputs, labels)\n",
    "            loss_iter += loss.item()\n",
    "        \n",
    "        loss_val.append(loss_iter/(len(val_loader)*batch_size))\n",
    "\n",
    "        accuracy = 100 * correct / total\n",
    "        accuracy_val.append(accuracy)\n",
    "        print('Validation accuracy is: {} %'.format(accuracy))"
   ]
  },
  {
   "cell_type": "markdown",
   "metadata": {
    "id": "TvJ40eanwHcQ"
   },
   "source": [
    "### Here I do the plot of losses and accuracies"
   ]
  },
  {
   "cell_type": "code",
   "execution_count": null,
   "metadata": {
    "colab": {
     "base_uri": "https://localhost:8080/",
     "height": 513
    },
    "id": "zJztIpmUu00W",
    "outputId": "c6b85f60-1cac-4a82-f4a4-f710e150f016"
   },
   "outputs": [
    {
     "data": {
      "image/png": "[encoded data removed]",
      "text/plain": [
       "<Figure size 432x288 with 1 Axes>"
      ]
     },
     "metadata": {
      "needs_background": "light"
     },
     "output_type": "display_data"
    },
    {
     "data": {
      "image/png": "[encoded data removed]",
      "text/plain": [
       "<Figure size 432x288 with 1 Axes>"
      ]
     },
     "metadata": {
      "needs_background": "light"
     },
     "output_type": "display_data"
    }
   ],
   "source": [
    "model.eval()\n",
    "\n",
    "\n",
    "plt.figure(2)\n",
    "plt.plot(loss_train, 'r', label='Train loss')\n",
    "plt.plot(loss_val, 'g', label='Val loss')\n",
    "plt.legend()\n",
    "plt.show()\n",
    "\n",
    "plt.figure(3)\n",
    "plt.plot(accuracy_val, 'r', label='Val accuracy')\n",
    "plt.legend()\n",
    "plt.show()"
   ]
  },
  {
   "cell_type": "code",
   "execution_count": null,
   "metadata": {
    "colab": {
     "base_uri": "https://localhost:8080/"
    },
    "id": "f4vztSvSu2kh",
    "outputId": "427dc914-144f-4eb2-b7e0-614d6f31a260"
   },
   "outputs": [
    {
     "name": "stdout",
     "output_type": "stream",
     "text": [
      "Accuracy of the network on the 1000 test images: 80.6 %\n"
     ]
    }
   ],
   "source": [
    "\n",
    "#Compute accuracy on the test set\n",
    "with torch.no_grad():\n",
    "    correct = 0\n",
    "    total = 0\n",
    "    for images, labels in test_loader:\n",
    "        images = images.to(device)\n",
    "        labels = labels.to(device)\n",
    "        outputs = model(images)\n",
    "        _, predicted = torch.max(outputs.data, 1)\n",
    "        total += labels.size(0)\n",
    "        correct += (predicted == labels).sum().item()\n",
    "        if total == 1000:\n",
    "            break\n",
    "\n",
    "    print('Accuracy of the network on the {} test images: {} %'.format(total, 100 * correct / total))"
   ]
  },
  {
   "cell_type": "markdown",
   "metadata": {
    "id": "2ayxtw0ow58D"
   },
   "source": [
    "## Question 2.B. (First Part)"
   ]
  },
  {
   "cell_type": "markdown",
   "metadata": {
    "id": "fLM6Nte0xFq9"
   },
   "source": [
    "### In this part of question, I add **early stopping** to try to save best model before it is overfit. Also, the number of epochs is increased to 50. The modification is going to be applied to the training phase."
   ]
  },
  {
   "cell_type": "markdown",
   "metadata": {
    "id": "mqL_gZZTzGGH"
   },
   "source": [
    "### Firstly, we are going to apply early stopping to the model with batch normalization.  "
   ]
  },
  {
   "cell_type": "code",
   "execution_count": null,
   "metadata": {
    "id": "-3u0YCqSUROm"
   },
   "outputs": [],
   "source": [
    "from tqdm import tqdm"
   ]
  },
  {
   "cell_type": "code",
   "execution_count": null,
   "metadata": {
    "colab": {
     "base_uri": "https://localhost:8080/"
    },
    "id": "ZLD1lZDzuCFT",
    "outputId": "2a57a029-5af9-492c-ea8d-e8e60e259505"
   },
   "outputs": [
    {
     "name": "stderr",
     "output_type": "stream",
     "text": [
      "\r",
      "  0%|          | 0/50 [00:00<?, ?it/s]"
     ]
    },
    {
     "name": "stdout",
     "output_type": "stream",
     "text": [
      "Epoch [1/50], Step [100/245], Loss: 1.3174\n",
      "Epoch [1/50], Step [200/245], Loss: 1.1657\n"
     ]
    },
    {
     "name": "stderr",
     "output_type": "stream",
     "text": [
      "\r",
      "  2%|▏         | 1/50 [01:09<56:38, 69.35s/it]"
     ]
    },
    {
     "name": "stdout",
     "output_type": "stream",
     "text": [
      "Validation accuracy is: 59.6 %\n",
      "Epoch [2/50], Step [100/245], Loss: 1.1101\n",
      "Epoch [2/50], Step [200/245], Loss: 0.9167\n"
     ]
    },
    {
     "name": "stderr",
     "output_type": "stream",
     "text": [
      "\r",
      "  4%|▍         | 2/50 [02:18<55:30, 69.38s/it]"
     ]
    },
    {
     "name": "stdout",
     "output_type": "stream",
     "text": [
      "Validation accuracy is: 56.3 %\n",
      "Epoch [3/50], Step [100/245], Loss: 0.7591\n",
      "Epoch [3/50], Step [200/245], Loss: 0.6940\n"
     ]
    },
    {
     "name": "stderr",
     "output_type": "stream",
     "text": [
      "\r",
      "  6%|▌         | 3/50 [03:28<54:21, 69.39s/it]"
     ]
    },
    {
     "name": "stdout",
     "output_type": "stream",
     "text": [
      "Validation accuracy is: 53.6 %\n",
      "Epoch [4/50], Step [100/245], Loss: 0.6491\n",
      "Epoch [4/50], Step [200/245], Loss: 0.6164\n"
     ]
    },
    {
     "name": "stderr",
     "output_type": "stream",
     "text": [
      "\r",
      "  8%|▊         | 4/50 [04:37<53:12, 69.41s/it]"
     ]
    },
    {
     "name": "stdout",
     "output_type": "stream",
     "text": [
      "Validation accuracy is: 75.4 %\n",
      "\tHigher validation accuracy at epoch 4 with acuracy 75.4%\n",
      "Epoch [5/50], Step [100/245], Loss: 0.6956\n",
      "Epoch [5/50], Step [200/245], Loss: 0.5978\n"
     ]
    },
    {
     "name": "stderr",
     "output_type": "stream",
     "text": [
      "\r",
      " 10%|█         | 5/50 [05:46<52:00, 69.34s/it]"
     ]
    },
    {
     "name": "stdout",
     "output_type": "stream",
     "text": [
      "Validation accuracy is: 63.5 %\n",
      "Epoch [6/50], Step [100/245], Loss: 0.6269\n",
      "Epoch [6/50], Step [200/245], Loss: 0.4619\n"
     ]
    },
    {
     "name": "stderr",
     "output_type": "stream",
     "text": [
      "\r",
      " 12%|█▏        | 6/50 [06:55<50:48, 69.27s/it]"
     ]
    },
    {
     "name": "stdout",
     "output_type": "stream",
     "text": [
      "Validation accuracy is: 75.6 %\n",
      "\tHigher validation accuracy at epoch 6 with acuracy 75.6%\n",
      "Epoch [7/50], Step [100/245], Loss: 0.3858\n",
      "Epoch [7/50], Step [200/245], Loss: 0.5034\n"
     ]
    },
    {
     "name": "stderr",
     "output_type": "stream",
     "text": [
      "\r",
      " 14%|█▍        | 7/50 [08:05<49:38, 69.27s/it]"
     ]
    },
    {
     "name": "stdout",
     "output_type": "stream",
     "text": [
      "Validation accuracy is: 78.2 %\n",
      "\tHigher validation accuracy at epoch 7 with acuracy 78.2%\n",
      "Epoch [8/50], Step [100/245], Loss: 0.3762\n",
      "Epoch [8/50], Step [200/245], Loss: 0.4044\n"
     ]
    },
    {
     "name": "stderr",
     "output_type": "stream",
     "text": [
      "\r",
      " 16%|█▌        | 8/50 [09:13<48:21, 69.09s/it]"
     ]
    },
    {
     "name": "stdout",
     "output_type": "stream",
     "text": [
      "Validation accuracy is: 79.0 %\n",
      "\tHigher validation accuracy at epoch 8 with acuracy 79.0%\n",
      "Epoch [9/50], Step [100/245], Loss: 0.3459\n",
      "Epoch [9/50], Step [200/245], Loss: 0.3217\n"
     ]
    },
    {
     "name": "stderr",
     "output_type": "stream",
     "text": [
      "\r",
      " 18%|█▊        | 9/50 [10:22<47:04, 68.89s/it]"
     ]
    },
    {
     "name": "stdout",
     "output_type": "stream",
     "text": [
      "Validation accuracy is: 79.3 %\n",
      "\tHigher validation accuracy at epoch 9 with acuracy 79.3%\n",
      "Epoch [10/50], Step [100/245], Loss: 0.2661\n",
      "Epoch [10/50], Step [200/245], Loss: 0.3547\n"
     ]
    },
    {
     "name": "stderr",
     "output_type": "stream",
     "text": [
      "\r",
      " 20%|██        | 10/50 [11:30<45:49, 68.74s/it]"
     ]
    },
    {
     "name": "stdout",
     "output_type": "stream",
     "text": [
      "Validation accuracy is: 81.5 %\n",
      "\tHigher validation accuracy at epoch 10 with acuracy 81.5%\n",
      "Epoch [11/50], Step [100/245], Loss: 0.2780\n",
      "Epoch [11/50], Step [200/245], Loss: 0.2349\n"
     ]
    },
    {
     "name": "stderr",
     "output_type": "stream",
     "text": [
      "\r",
      " 22%|██▏       | 11/50 [12:38<44:34, 68.57s/it]"
     ]
    },
    {
     "name": "stdout",
     "output_type": "stream",
     "text": [
      "Validation accuracy is: 79.6 %\n",
      "Epoch [12/50], Step [100/245], Loss: 0.1598\n",
      "Epoch [12/50], Step [200/245], Loss: 0.1917\n"
     ]
    },
    {
     "name": "stderr",
     "output_type": "stream",
     "text": [
      "\r",
      " 24%|██▍       | 12/50 [13:46<43:18, 68.38s/it]"
     ]
    },
    {
     "name": "stdout",
     "output_type": "stream",
     "text": [
      "Validation accuracy is: 82.0 %\n",
      "\tHigher validation accuracy at epoch 12 with acuracy 82.0%\n",
      "Epoch [13/50], Step [100/245], Loss: 0.1242\n",
      "Epoch [13/50], Step [200/245], Loss: 0.1853\n"
     ]
    },
    {
     "name": "stderr",
     "output_type": "stream",
     "text": [
      "\r",
      " 26%|██▌       | 13/50 [14:55<42:08, 68.34s/it]"
     ]
    },
    {
     "name": "stdout",
     "output_type": "stream",
     "text": [
      "Validation accuracy is: 82.7 %\n",
      "\tHigher validation accuracy at epoch 13 with acuracy 82.7%\n",
      "Epoch [14/50], Step [100/245], Loss: 0.0877\n",
      "Epoch [14/50], Step [200/245], Loss: 0.1263\n"
     ]
    },
    {
     "name": "stderr",
     "output_type": "stream",
     "text": [
      "\r",
      " 28%|██▊       | 14/50 [16:03<40:56, 68.24s/it]"
     ]
    },
    {
     "name": "stdout",
     "output_type": "stream",
     "text": [
      "Validation accuracy is: 80.4 %\n",
      "Epoch [15/50], Step [100/245], Loss: 0.1491\n",
      "Epoch [15/50], Step [200/245], Loss: 0.0989\n"
     ]
    },
    {
     "name": "stderr",
     "output_type": "stream",
     "text": [
      "\r",
      " 30%|███       | 15/50 [17:11<39:44, 68.13s/it]"
     ]
    },
    {
     "name": "stdout",
     "output_type": "stream",
     "text": [
      "Validation accuracy is: 81.2 %\n",
      "Epoch [16/50], Step [100/245], Loss: 0.0839\n",
      "Epoch [16/50], Step [200/245], Loss: 0.0937\n"
     ]
    },
    {
     "name": "stderr",
     "output_type": "stream",
     "text": [
      "\r",
      " 32%|███▏      | 16/50 [18:18<38:33, 68.06s/it]"
     ]
    },
    {
     "name": "stdout",
     "output_type": "stream",
     "text": [
      "Validation accuracy is: 81.7 %\n",
      "Epoch [17/50], Step [100/245], Loss: 0.0600\n",
      "Epoch [17/50], Step [200/245], Loss: 0.1103\n"
     ]
    },
    {
     "name": "stderr",
     "output_type": "stream",
     "text": [
      "\r",
      " 34%|███▍      | 17/50 [19:26<37:23, 67.98s/it]"
     ]
    },
    {
     "name": "stdout",
     "output_type": "stream",
     "text": [
      "Validation accuracy is: 81.5 %\n",
      "Epoch [18/50], Step [100/245], Loss: 0.0586\n",
      "Epoch [18/50], Step [200/245], Loss: 0.0657\n"
     ]
    },
    {
     "name": "stderr",
     "output_type": "stream",
     "text": [
      "\r",
      " 36%|███▌      | 18/50 [20:34<36:17, 68.04s/it]"
     ]
    },
    {
     "name": "stdout",
     "output_type": "stream",
     "text": [
      "Validation accuracy is: 80.8 %\n",
      "Epoch [19/50], Step [100/245], Loss: 0.0620\n",
      "Epoch [19/50], Step [200/245], Loss: 0.1020\n"
     ]
    },
    {
     "name": "stderr",
     "output_type": "stream",
     "text": [
      "\r",
      " 38%|███▊      | 19/50 [21:43<35:13, 68.16s/it]"
     ]
    },
    {
     "name": "stdout",
     "output_type": "stream",
     "text": [
      "Validation accuracy is: 80.7 %\n",
      "Epoch [20/50], Step [100/245], Loss: 0.0394\n",
      "Epoch [20/50], Step [200/245], Loss: 0.0671\n"
     ]
    },
    {
     "name": "stderr",
     "output_type": "stream",
     "text": [
      "\r",
      " 40%|████      | 20/50 [22:51<34:05, 68.19s/it]"
     ]
    },
    {
     "name": "stdout",
     "output_type": "stream",
     "text": [
      "Validation accuracy is: 81.8 %\n",
      "Epoch [21/50], Step [100/245], Loss: 0.0648\n",
      "Epoch [21/50], Step [200/245], Loss: 0.0489\n"
     ]
    },
    {
     "name": "stderr",
     "output_type": "stream",
     "text": [
      "\r",
      " 42%|████▏     | 21/50 [23:59<32:56, 68.17s/it]"
     ]
    },
    {
     "name": "stdout",
     "output_type": "stream",
     "text": [
      "Validation accuracy is: 79.6 %\n",
      "Epoch [22/50], Step [100/245], Loss: 0.0534\n",
      "Epoch [22/50], Step [200/245], Loss: 0.0469\n"
     ]
    },
    {
     "name": "stderr",
     "output_type": "stream",
     "text": [
      "\r",
      " 44%|████▍     | 22/50 [25:07<31:46, 68.11s/it]"
     ]
    },
    {
     "name": "stdout",
     "output_type": "stream",
     "text": [
      "Validation accuracy is: 82.2 %\n",
      "Epoch [23/50], Step [100/245], Loss: 0.0370\n",
      "Epoch [23/50], Step [200/245], Loss: 0.0362\n"
     ]
    },
    {
     "name": "stderr",
     "output_type": "stream",
     "text": [
      "\r",
      " 46%|████▌     | 23/50 [26:15<30:37, 68.07s/it]"
     ]
    },
    {
     "name": "stdout",
     "output_type": "stream",
     "text": [
      "Validation accuracy is: 81.9 %\n",
      "Epoch [24/50], Step [100/245], Loss: 0.0210\n",
      "Epoch [24/50], Step [200/245], Loss: 0.0300\n"
     ]
    },
    {
     "name": "stderr",
     "output_type": "stream",
     "text": [
      "\r",
      " 48%|████▊     | 24/50 [27:23<29:28, 68.04s/it]"
     ]
    },
    {
     "name": "stdout",
     "output_type": "stream",
     "text": [
      "Validation accuracy is: 82.4 %\n",
      "Epoch [25/50], Step [100/245], Loss: 0.0123\n",
      "Epoch [25/50], Step [200/245], Loss: 0.0668\n"
     ]
    },
    {
     "name": "stderr",
     "output_type": "stream",
     "text": [
      "\r",
      " 50%|█████     | 25/50 [28:31<28:20, 68.00s/it]"
     ]
    },
    {
     "name": "stdout",
     "output_type": "stream",
     "text": [
      "Validation accuracy is: 81.6 %\n",
      "Epoch [26/50], Step [100/245], Loss: 0.0210\n",
      "Epoch [26/50], Step [200/245], Loss: 0.0185\n"
     ]
    },
    {
     "name": "stderr",
     "output_type": "stream",
     "text": [
      "\r",
      " 52%|█████▏    | 26/50 [29:39<27:12, 68.02s/it]"
     ]
    },
    {
     "name": "stdout",
     "output_type": "stream",
     "text": [
      "Validation accuracy is: 80.4 %\n",
      "Epoch [27/50], Step [100/245], Loss: 0.0404\n",
      "Epoch [27/50], Step [200/245], Loss: 0.0425\n"
     ]
    },
    {
     "name": "stderr",
     "output_type": "stream",
     "text": [
      "\r",
      " 54%|█████▍    | 27/50 [30:47<26:04, 68.01s/it]"
     ]
    },
    {
     "name": "stdout",
     "output_type": "stream",
     "text": [
      "Validation accuracy is: 82.4 %\n",
      "Epoch [28/50], Step [100/245], Loss: 0.0216\n",
      "Epoch [28/50], Step [200/245], Loss: 0.0150\n"
     ]
    },
    {
     "name": "stderr",
     "output_type": "stream",
     "text": [
      "\r",
      " 56%|█████▌    | 28/50 [31:55<24:56, 68.00s/it]"
     ]
    },
    {
     "name": "stdout",
     "output_type": "stream",
     "text": [
      "Validation accuracy is: 82.9 %\n",
      "\tHigher validation accuracy at epoch 28 with acuracy 82.9%\n",
      "Epoch [29/50], Step [100/245], Loss: 0.0125\n",
      "Epoch [29/50], Step [200/245], Loss: 0.0134\n"
     ]
    },
    {
     "name": "stderr",
     "output_type": "stream",
     "text": [
      "\r",
      " 58%|█████▊    | 29/50 [33:03<23:47, 67.99s/it]"
     ]
    },
    {
     "name": "stdout",
     "output_type": "stream",
     "text": [
      "Validation accuracy is: 82.7 %\n",
      "Epoch [30/50], Step [100/245], Loss: 0.0209\n",
      "Epoch [30/50], Step [200/245], Loss: 0.0178\n"
     ]
    },
    {
     "name": "stderr",
     "output_type": "stream",
     "text": [
      "\r",
      " 60%|██████    | 30/50 [34:11<22:39, 67.99s/it]"
     ]
    },
    {
     "name": "stdout",
     "output_type": "stream",
     "text": [
      "Validation accuracy is: 83.4 %\n",
      "\tHigher validation accuracy at epoch 30 with acuracy 83.4%\n",
      "Epoch [31/50], Step [100/245], Loss: 0.0218\n",
      "Epoch [31/50], Step [200/245], Loss: 0.0311\n"
     ]
    },
    {
     "name": "stderr",
     "output_type": "stream",
     "text": [
      "\r",
      " 62%|██████▏   | 31/50 [35:19<21:30, 67.93s/it]"
     ]
    },
    {
     "name": "stdout",
     "output_type": "stream",
     "text": [
      "Validation accuracy is: 79.4 %\n",
      "Epoch [32/50], Step [100/245], Loss: 0.0213\n",
      "Epoch [32/50], Step [200/245], Loss: 0.0620\n"
     ]
    },
    {
     "name": "stderr",
     "output_type": "stream",
     "text": [
      "\r",
      " 64%|██████▍   | 32/50 [36:27<20:22, 67.89s/it]"
     ]
    },
    {
     "name": "stdout",
     "output_type": "stream",
     "text": [
      "Validation accuracy is: 80.9 %\n",
      "Epoch [33/50], Step [100/245], Loss: 0.0339\n",
      "Epoch [33/50], Step [200/245], Loss: 0.0309\n"
     ]
    },
    {
     "name": "stderr",
     "output_type": "stream",
     "text": [
      "\r",
      " 66%|██████▌   | 33/50 [37:35<19:14, 67.93s/it]"
     ]
    },
    {
     "name": "stdout",
     "output_type": "stream",
     "text": [
      "Validation accuracy is: 83.1 %\n",
      "Epoch [34/50], Step [100/245], Loss: 0.0184\n",
      "Epoch [34/50], Step [200/245], Loss: 0.0354\n"
     ]
    },
    {
     "name": "stderr",
     "output_type": "stream",
     "text": [
      "\r",
      " 68%|██████▊   | 34/50 [38:43<18:07, 67.94s/it]"
     ]
    },
    {
     "name": "stdout",
     "output_type": "stream",
     "text": [
      "Validation accuracy is: 82.9 %\n",
      "Epoch [35/50], Step [100/245], Loss: 0.0104\n",
      "Epoch [35/50], Step [200/245], Loss: 0.0139\n"
     ]
    },
    {
     "name": "stderr",
     "output_type": "stream",
     "text": [
      "\r",
      " 70%|███████   | 35/50 [39:50<16:58, 67.91s/it]"
     ]
    },
    {
     "name": "stdout",
     "output_type": "stream",
     "text": [
      "Validation accuracy is: 82.9 %\n",
      "Epoch [36/50], Step [100/245], Loss: 0.0029\n",
      "Epoch [36/50], Step [200/245], Loss: 0.0064\n"
     ]
    },
    {
     "name": "stderr",
     "output_type": "stream",
     "text": [
      "\r",
      " 72%|███████▏  | 36/50 [40:58<15:50, 67.91s/it]"
     ]
    },
    {
     "name": "stdout",
     "output_type": "stream",
     "text": [
      "Validation accuracy is: 84.6 %\n",
      "\tHigher validation accuracy at epoch 36 with acuracy 84.6%\n",
      "Epoch [37/50], Step [100/245], Loss: 0.0029\n",
      "Epoch [37/50], Step [200/245], Loss: 0.0024\n"
     ]
    },
    {
     "name": "stderr",
     "output_type": "stream",
     "text": [
      "\r",
      " 74%|███████▍  | 37/50 [42:06<14:42, 67.89s/it]"
     ]
    },
    {
     "name": "stdout",
     "output_type": "stream",
     "text": [
      "Validation accuracy is: 84.2 %\n",
      "Epoch [38/50], Step [100/245], Loss: 0.0018\n",
      "Epoch [38/50], Step [200/245], Loss: 0.0032\n"
     ]
    },
    {
     "name": "stderr",
     "output_type": "stream",
     "text": [
      "\r",
      " 76%|███████▌  | 38/50 [43:14<13:34, 67.83s/it]"
     ]
    },
    {
     "name": "stdout",
     "output_type": "stream",
     "text": [
      "Validation accuracy is: 84.1 %\n",
      "Epoch [39/50], Step [100/245], Loss: 0.0026\n",
      "Epoch [39/50], Step [200/245], Loss: 0.0033\n"
     ]
    },
    {
     "name": "stderr",
     "output_type": "stream",
     "text": [
      "\r",
      " 78%|███████▊  | 39/50 [44:22<12:26, 67.83s/it]"
     ]
    },
    {
     "name": "stdout",
     "output_type": "stream",
     "text": [
      "Validation accuracy is: 84.9 %\n",
      "\tHigher validation accuracy at epoch 39 with acuracy 84.9%\n",
      "Epoch [40/50], Step [100/245], Loss: 0.0028\n",
      "Epoch [40/50], Step [200/245], Loss: 0.0065\n"
     ]
    },
    {
     "name": "stderr",
     "output_type": "stream",
     "text": [
      "\r",
      " 80%|████████  | 40/50 [45:30<11:18, 67.86s/it]"
     ]
    },
    {
     "name": "stdout",
     "output_type": "stream",
     "text": [
      "Validation accuracy is: 84.0 %\n",
      "Epoch [41/50], Step [100/245], Loss: 0.0026\n",
      "Epoch [41/50], Step [200/245], Loss: 0.0021\n"
     ]
    },
    {
     "name": "stderr",
     "output_type": "stream",
     "text": [
      "\r",
      " 82%|████████▏ | 41/50 [46:38<10:10, 67.86s/it]"
     ]
    },
    {
     "name": "stdout",
     "output_type": "stream",
     "text": [
      "Validation accuracy is: 83.9 %\n",
      "Epoch [42/50], Step [100/245], Loss: 0.0039\n",
      "Epoch [42/50], Step [200/245], Loss: 0.0029\n"
     ]
    },
    {
     "name": "stderr",
     "output_type": "stream",
     "text": [
      "\r",
      " 84%|████████▍ | 42/50 [47:45<09:02, 67.87s/it]"
     ]
    },
    {
     "name": "stdout",
     "output_type": "stream",
     "text": [
      "Validation accuracy is: 84.8 %\n",
      "Epoch [43/50], Step [100/245], Loss: 0.0041\n",
      "Epoch [43/50], Step [200/245], Loss: 0.0034\n"
     ]
    },
    {
     "name": "stderr",
     "output_type": "stream",
     "text": [
      "\r",
      " 86%|████████▌ | 43/50 [48:53<07:55, 67.88s/it]"
     ]
    },
    {
     "name": "stdout",
     "output_type": "stream",
     "text": [
      "Validation accuracy is: 84.6 %\n",
      "Epoch [44/50], Step [100/245], Loss: 0.1101\n",
      "Epoch [44/50], Step [200/245], Loss: 0.1002\n"
     ]
    },
    {
     "name": "stderr",
     "output_type": "stream",
     "text": [
      "\r",
      " 88%|████████▊ | 44/50 [50:01<06:47, 67.88s/it]"
     ]
    },
    {
     "name": "stdout",
     "output_type": "stream",
     "text": [
      "Validation accuracy is: 81.6 %\n",
      "Epoch [45/50], Step [100/245], Loss: 0.0173\n",
      "Epoch [45/50], Step [200/245], Loss: 0.0192\n"
     ]
    },
    {
     "name": "stderr",
     "output_type": "stream",
     "text": [
      "\r",
      " 90%|█████████ | 45/50 [51:09<05:39, 67.86s/it]"
     ]
    },
    {
     "name": "stdout",
     "output_type": "stream",
     "text": [
      "Validation accuracy is: 84.2 %\n",
      "Epoch [46/50], Step [100/245], Loss: 0.0060\n",
      "Epoch [46/50], Step [200/245], Loss: 0.0076\n"
     ]
    },
    {
     "name": "stderr",
     "output_type": "stream",
     "text": [
      "\r",
      " 92%|█████████▏| 46/50 [52:17<04:31, 67.82s/it]"
     ]
    },
    {
     "name": "stdout",
     "output_type": "stream",
     "text": [
      "Validation accuracy is: 83.2 %\n",
      "Epoch [47/50], Step [100/245], Loss: 0.0041\n",
      "Epoch [47/50], Step [200/245], Loss: 0.0036\n"
     ]
    },
    {
     "name": "stderr",
     "output_type": "stream",
     "text": [
      "\r",
      " 94%|█████████▍| 47/50 [53:25<03:23, 67.84s/it]"
     ]
    },
    {
     "name": "stdout",
     "output_type": "stream",
     "text": [
      "Validation accuracy is: 83.8 %\n",
      "Epoch [48/50], Step [100/245], Loss: 0.0025\n",
      "Epoch [48/50], Step [200/245], Loss: 0.0026\n"
     ]
    },
    {
     "name": "stderr",
     "output_type": "stream",
     "text": [
      "\r",
      " 96%|█████████▌| 48/50 [54:32<02:15, 67.84s/it]"
     ]
    },
    {
     "name": "stdout",
     "output_type": "stream",
     "text": [
      "Validation accuracy is: 84.1 %\n",
      "Epoch [49/50], Step [100/245], Loss: 0.0026\n",
      "Epoch [49/50], Step [200/245], Loss: 0.0023\n"
     ]
    },
    {
     "name": "stderr",
     "output_type": "stream",
     "text": [
      "\r",
      " 98%|█████████▊| 49/50 [55:40<01:07, 67.89s/it]"
     ]
    },
    {
     "name": "stdout",
     "output_type": "stream",
     "text": [
      "Validation accuracy is: 85.0 %\n",
      "\tHigher validation accuracy at epoch 49 with acuracy 85.0%\n",
      "Epoch [50/50], Step [100/245], Loss: 0.0021\n",
      "Epoch [50/50], Step [200/245], Loss: 0.0022\n"
     ]
    },
    {
     "name": "stderr",
     "output_type": "stream",
     "text": [
      "100%|██████████| 50/50 [56:48<00:00, 68.18s/it]"
     ]
    },
    {
     "name": "stdout",
     "output_type": "stream",
     "text": [
      "Validation accuracy is: 84.1 %\n"
     ]
    },
    {
     "name": "stderr",
     "output_type": "stream",
     "text": [
      "\n"
     ]
    }
   ],
   "source": [
    "num_epochs = 50\n",
    "# Loss and optimizer\n",
    "criterion = nn.CrossEntropyLoss()\n",
    "optimizer = torch.optim.Adam(model.parameters(), lr=learning_rate, weight_decay=reg)\n",
    "\n",
    "# Train the model\n",
    "lr = learning_rate\n",
    "total_step = len(train_loader)\n",
    "loss_train = []\n",
    "loss_val = []\n",
    "best_accuracy = None\n",
    "accuracy_val = []\n",
    "best_model = type(model)(input_size, hidden_size, num_classes, norm_layer=norm_layer) # get a new instance\n",
    "#best_model = ConvNet(input_size, hidden_size, num_classes, norm_layer=norm_layer)\n",
    "for epoch in tqdm(range(num_epochs)):\n",
    "\n",
    "    model.train()\n",
    "\n",
    "    loss_iter = 0\n",
    "    for i, (images, labels) in enumerate(train_loader):\n",
    "        # Move tensors to the configured device\n",
    "        images = images.to(device)\n",
    "        labels = labels.to(device)\n",
    "\n",
    "        # Forward pass\n",
    "        outputs = model(images)\n",
    "        loss = criterion(outputs, labels)\n",
    "\n",
    "        # Backward and optimize\n",
    "        optimizer.zero_grad()\n",
    "        loss.backward()\n",
    "        optimizer.step()\n",
    "\n",
    "        loss_iter += loss.item()\n",
    "        \n",
    "        if (i+1) % 100 == 0:\n",
    "            print ('Epoch [{}/{}], Step [{}/{}], Loss: {:.4f}'\n",
    "                   .format(epoch+1, num_epochs, i+1, total_step, loss.item()))\n",
    "            \n",
    "    loss_train.append(loss_iter/(len(train_loader)*batch_size))\n",
    "\n",
    "    \n",
    "    # Code to update the lr\n",
    "    lr *= learning_rate_decay\n",
    "    update_lr(optimizer, lr)\n",
    "    \n",
    "        \n",
    "    model.eval()\n",
    "    with torch.no_grad():\n",
    "        correct = 0\n",
    "        total = 0\n",
    "        loss_iter = 0\n",
    "        for images, labels in val_loader:\n",
    "            images = images.to(device)\n",
    "            labels = labels.to(device)\n",
    "            \n",
    "            outputs = model(images)\n",
    "            _, predicted = torch.max(outputs.data, 1)\n",
    "            \n",
    "            total += labels.size(0)\n",
    "            correct += (predicted == labels).sum().item()\n",
    "            \n",
    "            loss = criterion(outputs, labels)\n",
    "            loss_iter += loss.item()\n",
    "        \n",
    "        loss_val.append(loss_iter/(len(val_loader)*batch_size))\n",
    "\n",
    "        accuracy = 100 * correct / total\n",
    "        accuracy_val.append(accuracy)\n",
    "        print('Validation accuracy is: {} %'.format(accuracy))\n",
    "        #################################################################################\n",
    "        # TODO: Q2.b Implement the early stopping mechanism to save the model which has #\n",
    "        # the model with the best validation accuracy so-far (use best_model).          #\n",
    "        #################################################################################\n",
    "\n",
    "        # *****START OF YOUR CODE (DO NOT DELETE/MODIFY THIS LINE)*****\n",
    "        if epoch == 0 or accuracy >= np.max(accuracy_val):\n",
    "            best_model = model\n",
    "            torch.save(best_model.state_dict(), 'model.ckpt')\n",
    "            if epoch > 0:\n",
    "                print(\n",
    "                    f\"\\tHigher validation accuracy at epoch {epoch+1} with acuracy {accuracy}%\")\n",
    "        # *****END OF YOUR CODE (DO NOT DELETE/MODIFY THIS LINE)*****"
   ]
  },
  {
   "cell_type": "markdown",
   "metadata": {
    "id": "gJwOeV2w7jJJ"
   },
   "source": [
    "## Question 2.B. (Second Part)"
   ]
  },
  {
   "cell_type": "code",
   "execution_count": 9,
   "metadata": {
    "id": "w4Yp3VZYqKZW"
   },
   "outputs": [],
   "source": [
    "from tqdm import tqdm"
   ]
  },
  {
   "cell_type": "code",
   "execution_count": null,
   "metadata": {
    "colab": {
     "base_uri": "https://localhost:8080/"
    },
    "id": "1_C7DYkZ4XU2",
    "outputId": "a831f6a8-5bde-4b65-a974-4e945153e0b9"
   },
   "outputs": [
    {
     "name": "stdout",
     "output_type": "stream",
     "text": [
      "Using device: cuda\n"
     ]
    }
   ],
   "source": [
    "# --------------------------------\n",
    "# Device configuration\n",
    "# --------------------------------\n",
    "device = torch.device('cuda' if torch.cuda.is_available() else 'cpu')\n",
    "print('Using device: %s'%device)"
   ]
  },
  {
   "cell_type": "code",
   "execution_count": 6,
   "metadata": {
    "id": "Kozr-XnK7vAL"
   },
   "outputs": [],
   "source": [
    "#-------------------------------------------------\n",
    "# Convolutional neural network (Q1.a and Q2.a)\n",
    "# Set norm_layer for different networks whether using batch normalization\n",
    "#-------------------------------------------------\n",
    "class ConvNet(nn.Module):\n",
    "    def __init__(self, input_size, hidden_layers, num_classes, norm_layer=None):\n",
    "        super(ConvNet, self).__init__()\n",
    "        #################################################################################\n",
    "        # TODO: Initialize the modules required to implement the convolutional layer    #\n",
    "        # described in the exercise.                                                    #\n",
    "        # For Q1.a make use of conv2d and relu layers from the torch.nn module.         #\n",
    "        # For Q2.a make use of BatchNorm2d layer from the torch.nn module.              #\n",
    "        # For Q3.b Use Dropout layer from the torch.nn module.                          #\n",
    "        #################################################################################\n",
    "        \n",
    "        # *****START OF YOUR CODE (DO NOT DELETE/MODIFY THIS LINE)*****\n",
    "        self.cnn_layers = nn.Sequential(\n",
    "            # Defining the first 2d convolitional layer\n",
    "            nn.Conv2d(3,128 , kernel_size = 3, stride = 1, padding =1), \n",
    "            nn.MaxPool2d(2, stride = 2),                                \n",
    "            nn.ReLU(),\n",
    "            # Defining the second 2d convolitional layer                             \n",
    "            nn.Conv2d(128, 512 , kernel_size = 3, stride = 1, padding =1),\n",
    "            nn.MaxPool2d(2, stride = 2), \n",
    "            nn.ReLU(), \n",
    "            # Defining the third 2d convolitional layer \n",
    "            nn.Conv2d(512, 512 , kernel_size = 3, stride = 1, padding =1),\n",
    "            nn.MaxPool2d(2, stride = 2), \n",
    "            nn.ReLU(), \n",
    "            # Defining the fourth 2d convolitional layer \n",
    "            nn.Conv2d(512, 512 , kernel_size = 3, stride = 1, padding =1),\n",
    "            nn.MaxPool2d(2, stride = 2), \n",
    "            nn.ReLU(), \n",
    "            # Defining the fifth 2d convolitional layer \n",
    "            nn.Conv2d(512, 512 , kernel_size = 3, stride = 1, padding =1),\n",
    "            nn.MaxPool2d(2, stride = 2), \n",
    "            nn.ReLU(),\n",
    "\n",
    "        )\n",
    "\n",
    "\n",
    "        self.linear_layers = nn.Sequential(\n",
    "            nn.Linear(512, 10)\n",
    "        )\n",
    "\n",
    "\n",
    "        # *****END OF YOUR CODE (DO NOT DELETE/MODIFY THIS LINE)*****\n",
    "\n",
    "    def forward(self, x):\n",
    "        #################################################################################\n",
    "        # TODO: Implement the forward pass computations                                 #\n",
    "        #################################################################################\n",
    "        # *****START OF YOUR CODE (DO NOT DELETE/MODIFY THIS LINE)*****\n",
    "        # conv layers\n",
    "        x = self.cnn_layers(x)\n",
    "        # flatten\n",
    "        x = x.view(x.size(0), -1)\n",
    "        # fully connected layer\n",
    "        out = self.linear_layers(x)\n",
    "      \n",
    "\n",
    "\n",
    "        # *****END OF YOUR CODE (DO NOT DELETE/MODIFY THIS LINE)*****\n",
    "        return out\n"
   ]
  },
  {
   "cell_type": "code",
   "execution_count": 7,
   "metadata": {
    "id": "sxyU7F-X8H-Y"
   },
   "outputs": [],
   "source": [
    "model = ConvNet(input_size, hidden_size, num_classes, norm_layer=norm_layer).to(device)"
   ]
  },
  {
   "cell_type": "code",
   "execution_count": null,
   "metadata": {
    "colab": {
     "base_uri": "https://localhost:8080/"
    },
    "id": "dzC1XQHu8PrR",
    "outputId": "4d0ac3f2-7b40-4407-bcdc-8377def73f1f"
   },
   "outputs": [
    {
     "metadata": {
      "tags": null
     },
     "name": "stderr",
     "output_type": "stream",
     "text": [
      "\r",
      "  0%|          | 0/50 [00:00<?, ?it/s]"
     ]
    },
    {
     "metadata": {
      "tags": null
     },
     "name": "stdout",
     "output_type": "stream",
     "text": [
      "Epoch [1/50], Step [100/245], Loss: 1.8092\n",
      "Epoch [1/50], Step [200/245], Loss: 1.4189\n"
     ]
    },
    {
     "metadata": {
      "tags": null
     },
     "name": "stderr",
     "output_type": "stream",
     "text": [
      "\r",
      "  2%|▏         | 1/50 [01:07<55:23, 67.83s/it]"
     ]
    },
    {
     "metadata": {
      "tags": null
     },
     "name": "stdout",
     "output_type": "stream",
     "text": [
      "Validation accuracy is: 53.1 %\n",
      "Epoch [2/50], Step [100/245], Loss: 1.1732\n",
      "Epoch [2/50], Step [200/245], Loss: 1.1763\n"
     ]
    },
    {
     "metadata": {
      "tags": null
     },
     "name": "stderr",
     "output_type": "stream",
     "text": [
      "\r",
      "  4%|▍         | 2/50 [02:15<54:03, 67.57s/it]"
     ]
    },
    {
     "metadata": {
      "tags": null
     },
     "name": "stdout",
     "output_type": "stream",
     "text": [
      "Validation accuracy is: 61.5 %\n",
      "\tHigher validation accuracy at epoch 2 with acuracy 61.5%\n",
      "Epoch [3/50], Step [100/245], Loss: 0.8876\n",
      "Epoch [3/50], Step [200/245], Loss: 1.0458\n"
     ]
    },
    {
     "metadata": {
      "tags": null
     },
     "name": "stderr",
     "output_type": "stream",
     "text": [
      "\r",
      "  6%|▌         | 3/50 [03:22<52:48, 67.42s/it]"
     ]
    },
    {
     "metadata": {
      "tags": null
     },
     "name": "stdout",
     "output_type": "stream",
     "text": [
      "Validation accuracy is: 64.7 %\n",
      "\tHigher validation accuracy at epoch 3 with acuracy 64.7%\n",
      "Epoch [4/50], Step [100/245], Loss: 0.9057\n",
      "Epoch [4/50], Step [200/245], Loss: 0.8434\n"
     ]
    },
    {
     "metadata": {
      "tags": null
     },
     "name": "stderr",
     "output_type": "stream",
     "text": [
      "\r",
      "  8%|▊         | 4/50 [04:29<51:42, 67.44s/it]"
     ]
    },
    {
     "metadata": {
      "tags": null
     },
     "name": "stdout",
     "output_type": "stream",
     "text": [
      "Validation accuracy is: 71.1 %\n",
      "\tHigher validation accuracy at epoch 4 with acuracy 71.1%\n",
      "Epoch [5/50], Step [100/245], Loss: 0.7539\n",
      "Epoch [5/50], Step [200/245], Loss: 0.7382\n"
     ]
    },
    {
     "metadata": {
      "tags": null
     },
     "name": "stderr",
     "output_type": "stream",
     "text": [
      "\r",
      " 10%|█         | 5/50 [05:37<50:34, 67.42s/it]"
     ]
    },
    {
     "metadata": {
      "tags": null
     },
     "name": "stdout",
     "output_type": "stream",
     "text": [
      "Validation accuracy is: 70.2 %\n",
      "Epoch [6/50], Step [100/245], Loss: 0.6624\n",
      "Epoch [6/50], Step [200/245], Loss: 0.5707\n"
     ]
    },
    {
     "metadata": {
      "tags": null
     },
     "name": "stderr",
     "output_type": "stream",
     "text": [
      "\r",
      " 12%|█▏        | 6/50 [06:44<49:26, 67.42s/it]"
     ]
    },
    {
     "metadata": {
      "tags": null
     },
     "name": "stdout",
     "output_type": "stream",
     "text": [
      "Validation accuracy is: 73.4 %\n",
      "\tHigher validation accuracy at epoch 6 with acuracy 73.4%\n",
      "Epoch [7/50], Step [100/245], Loss: 0.5610\n",
      "Epoch [7/50], Step [200/245], Loss: 0.5337\n"
     ]
    },
    {
     "metadata": {
      "tags": null
     },
     "name": "stderr",
     "output_type": "stream",
     "text": [
      "\r",
      " 14%|█▍        | 7/50 [07:52<48:19, 67.43s/it]"
     ]
    },
    {
     "metadata": {
      "tags": null
     },
     "name": "stdout",
     "output_type": "stream",
     "text": [
      "Validation accuracy is: 74.8 %\n",
      "\tHigher validation accuracy at epoch 7 with acuracy 74.8%\n",
      "Epoch [8/50], Step [100/245], Loss: 0.4469\n",
      "Epoch [8/50], Step [200/245], Loss: 0.5404\n"
     ]
    },
    {
     "metadata": {
      "tags": null
     },
     "name": "stderr",
     "output_type": "stream",
     "text": [
      "\r",
      " 16%|█▌        | 8/50 [08:59<47:12, 67.43s/it]"
     ]
    },
    {
     "metadata": {
      "tags": null
     },
     "name": "stdout",
     "output_type": "stream",
     "text": [
      "Validation accuracy is: 75.7 %\n",
      "\tHigher validation accuracy at epoch 8 with acuracy 75.7%\n",
      "Epoch [9/50], Step [100/245], Loss: 0.5278\n",
      "Epoch [9/50], Step [200/245], Loss: 0.5038\n"
     ]
    },
    {
     "metadata": {
      "tags": null
     },
     "name": "stderr",
     "output_type": "stream",
     "text": [
      "\r",
      " 18%|█▊        | 9/50 [10:06<46:02, 67.37s/it]"
     ]
    },
    {
     "metadata": {
      "tags": null
     },
     "name": "stdout",
     "output_type": "stream",
     "text": [
      "Validation accuracy is: 76.6 %\n",
      "\tHigher validation accuracy at epoch 9 with acuracy 76.6%\n",
      "Epoch [10/50], Step [100/245], Loss: 0.4186\n",
      "Epoch [10/50], Step [200/245], Loss: 0.5739\n"
     ]
    },
    {
     "metadata": {
      "tags": null
     },
     "name": "stderr",
     "output_type": "stream",
     "text": [
      "\r",
      " 20%|██        | 10/50 [11:14<44:53, 67.34s/it]"
     ]
    },
    {
     "metadata": {
      "tags": null
     },
     "name": "stdout",
     "output_type": "stream",
     "text": [
      "Validation accuracy is: 78.0 %\n",
      "\tHigher validation accuracy at epoch 10 with acuracy 78.0%\n",
      "Epoch [11/50], Step [100/245], Loss: 0.5788\n",
      "Epoch [11/50], Step [200/245], Loss: 0.4933\n"
     ]
    },
    {
     "metadata": {
      "tags": null
     },
     "name": "stderr",
     "output_type": "stream",
     "text": [
      "\r",
      " 22%|██▏       | 11/50 [12:21<43:46, 67.36s/it]"
     ]
    },
    {
     "metadata": {
      "tags": null
     },
     "name": "stdout",
     "output_type": "stream",
     "text": [
      "Validation accuracy is: 78.1 %\n",
      "\tHigher validation accuracy at epoch 11 with acuracy 78.1%\n",
      "Epoch [12/50], Step [100/245], Loss: 0.3436\n",
      "Epoch [12/50], Step [200/245], Loss: 0.4263\n"
     ]
    },
    {
     "metadata": {
      "tags": null
     },
     "name": "stderr",
     "output_type": "stream",
     "text": [
      "\r",
      " 24%|██▍       | 12/50 [13:28<42:38, 67.33s/it]"
     ]
    },
    {
     "metadata": {
      "tags": null
     },
     "name": "stdout",
     "output_type": "stream",
     "text": [
      "Validation accuracy is: 78.7 %\n",
      "\tHigher validation accuracy at epoch 12 with acuracy 78.7%\n",
      "Epoch [13/50], Step [100/245], Loss: 0.3443\n",
      "Epoch [13/50], Step [200/245], Loss: 0.3771\n"
     ]
    },
    {
     "metadata": {
      "tags": null
     },
     "name": "stderr",
     "output_type": "stream",
     "text": [
      "\r",
      " 26%|██▌       | 13/50 [14:36<41:30, 67.30s/it]"
     ]
    },
    {
     "metadata": {
      "tags": null
     },
     "name": "stdout",
     "output_type": "stream",
     "text": [
      "Validation accuracy is: 79.4 %\n",
      "\tHigher validation accuracy at epoch 13 with acuracy 79.4%\n",
      "Epoch [14/50], Step [100/245], Loss: 0.4171\n",
      "Epoch [14/50], Step [200/245], Loss: 0.3010\n"
     ]
    },
    {
     "metadata": {
      "tags": null
     },
     "name": "stderr",
     "output_type": "stream",
     "text": [
      "\r",
      " 28%|██▊       | 14/50 [15:43<40:21, 67.26s/it]"
     ]
    },
    {
     "metadata": {
      "tags": null
     },
     "name": "stdout",
     "output_type": "stream",
     "text": [
      "Validation accuracy is: 78.4 %\n",
      "Epoch [15/50], Step [100/245], Loss: 0.2540\n",
      "Epoch [15/50], Step [200/245], Loss: 0.3049\n"
     ]
    },
    {
     "metadata": {
      "tags": null
     },
     "name": "stderr",
     "output_type": "stream",
     "text": [
      "\r",
      " 30%|███       | 15/50 [16:50<39:12, 67.21s/it]"
     ]
    },
    {
     "metadata": {
      "tags": null
     },
     "name": "stdout",
     "output_type": "stream",
     "text": [
      "Validation accuracy is: 79.1 %\n",
      "Epoch [16/50], Step [100/245], Loss: 0.2801\n",
      "Epoch [16/50], Step [200/245], Loss: 0.3591\n"
     ]
    },
    {
     "metadata": {
      "tags": null
     },
     "name": "stderr",
     "output_type": "stream",
     "text": [
      "\r",
      " 32%|███▏      | 16/50 [17:57<38:04, 67.19s/it]"
     ]
    },
    {
     "metadata": {
      "tags": null
     },
     "name": "stdout",
     "output_type": "stream",
     "text": [
      "Validation accuracy is: 79.8 %\n",
      "\tHigher validation accuracy at epoch 16 with acuracy 79.8%\n",
      "Epoch [17/50], Step [100/245], Loss: 0.2159\n",
      "Epoch [17/50], Step [200/245], Loss: 0.2876\n"
     ]
    },
    {
     "metadata": {
      "tags": null
     },
     "name": "stderr",
     "output_type": "stream",
     "text": [
      "\r",
      " 34%|███▍      | 17/50 [19:04<36:55, 67.15s/it]"
     ]
    },
    {
     "metadata": {
      "tags": null
     },
     "name": "stdout",
     "output_type": "stream",
     "text": [
      "Validation accuracy is: 78.1 %\n",
      "Epoch [18/50], Step [100/245], Loss: 0.1988\n",
      "Epoch [18/50], Step [200/245], Loss: 0.1727\n"
     ]
    },
    {
     "metadata": {
      "tags": null
     },
     "name": "stderr",
     "output_type": "stream",
     "text": [
      "\r",
      " 36%|███▌      | 18/50 [20:11<35:47, 67.11s/it]"
     ]
    },
    {
     "metadata": {
      "tags": null
     },
     "name": "stdout",
     "output_type": "stream",
     "text": [
      "Validation accuracy is: 80.3 %\n",
      "\tHigher validation accuracy at epoch 18 with acuracy 80.3%\n",
      "Epoch [19/50], Step [100/245], Loss: 0.2517\n",
      "Epoch [19/50], Step [200/245], Loss: 0.1606\n"
     ]
    },
    {
     "metadata": {
      "tags": null
     },
     "name": "stderr",
     "output_type": "stream",
     "text": [
      "\r",
      " 38%|███▊      | 19/50 [21:18<34:38, 67.06s/it]"
     ]
    },
    {
     "metadata": {
      "tags": null
     },
     "name": "stdout",
     "output_type": "stream",
     "text": [
      "Validation accuracy is: 78.8 %\n",
      "Epoch [20/50], Step [100/245], Loss: 0.1357\n",
      "Epoch [20/50], Step [200/245], Loss: 0.1555\n"
     ]
    },
    {
     "metadata": {
      "tags": null
     },
     "name": "stderr",
     "output_type": "stream",
     "text": [
      "\r",
      " 40%|████      | 20/50 [22:25<33:29, 66.98s/it]"
     ]
    },
    {
     "metadata": {
      "tags": null
     },
     "name": "stdout",
     "output_type": "stream",
     "text": [
      "Validation accuracy is: 78.0 %\n",
      "Epoch [21/50], Step [100/245], Loss: 0.1781\n",
      "Epoch [21/50], Step [200/245], Loss: 0.1685\n"
     ]
    },
    {
     "metadata": {
      "tags": null
     },
     "name": "stderr",
     "output_type": "stream",
     "text": [
      "\r",
      " 42%|████▏     | 21/50 [23:31<32:20, 66.90s/it]"
     ]
    },
    {
     "metadata": {
      "tags": null
     },
     "name": "stdout",
     "output_type": "stream",
     "text": [
      "Validation accuracy is: 79.4 %\n",
      "Epoch [22/50], Step [100/245], Loss: 0.1203\n",
      "Epoch [22/50], Step [200/245], Loss: 0.1561\n"
     ]
    },
    {
     "metadata": {
      "tags": null
     },
     "name": "stderr",
     "output_type": "stream",
     "text": [
      "\r",
      " 44%|████▍     | 22/50 [24:38<31:11, 66.85s/it]"
     ]
    },
    {
     "metadata": {
      "tags": null
     },
     "name": "stdout",
     "output_type": "stream",
     "text": [
      "Validation accuracy is: 79.6 %\n",
      "Epoch [23/50], Step [100/245], Loss: 0.1104\n",
      "Epoch [23/50], Step [200/245], Loss: 0.1575\n"
     ]
    },
    {
     "metadata": {
      "tags": null
     },
     "name": "stderr",
     "output_type": "stream",
     "text": [
      "\r",
      " 46%|████▌     | 23/50 [25:45<30:03, 66.79s/it]"
     ]
    },
    {
     "metadata": {
      "tags": null
     },
     "name": "stdout",
     "output_type": "stream",
     "text": [
      "Validation accuracy is: 78.9 %\n",
      "Epoch [24/50], Step [100/245], Loss: 0.1122\n",
      "Epoch [24/50], Step [200/245], Loss: 0.0997\n"
     ]
    },
    {
     "metadata": {
      "tags": null
     },
     "name": "stderr",
     "output_type": "stream",
     "text": [
      "\r",
      " 48%|████▊     | 24/50 [26:52<28:56, 66.78s/it]"
     ]
    },
    {
     "metadata": {
      "tags": null
     },
     "name": "stdout",
     "output_type": "stream",
     "text": [
      "Validation accuracy is: 79.2 %\n",
      "Epoch [25/50], Step [100/245], Loss: 0.1035\n",
      "Epoch [25/50], Step [200/245], Loss: 0.1367\n"
     ]
    },
    {
     "metadata": {
      "tags": null
     },
     "name": "stderr",
     "output_type": "stream",
     "text": [
      "\r",
      " 50%|█████     | 25/50 [27:58<27:47, 66.72s/it]"
     ]
    },
    {
     "metadata": {
      "tags": null
     },
     "name": "stdout",
     "output_type": "stream",
     "text": [
      "Validation accuracy is: 77.5 %\n",
      "Epoch [26/50], Step [100/245], Loss: 0.0606\n",
      "Epoch [26/50], Step [200/245], Loss: 0.0591\n"
     ]
    },
    {
     "metadata": {
      "tags": null
     },
     "name": "stderr",
     "output_type": "stream",
     "text": [
      "\r",
      " 52%|█████▏    | 26/50 [29:05<26:39, 66.65s/it]"
     ]
    },
    {
     "metadata": {
      "tags": null
     },
     "name": "stdout",
     "output_type": "stream",
     "text": [
      "Validation accuracy is: 77.9 %\n",
      "Epoch [27/50], Step [100/245], Loss: 0.0358\n",
      "Epoch [27/50], Step [200/245], Loss: 0.0657\n"
     ]
    },
    {
     "metadata": {
      "tags": null
     },
     "name": "stderr",
     "output_type": "stream",
     "text": [
      "\r",
      " 54%|█████▍    | 27/50 [30:11<25:31, 66.57s/it]"
     ]
    },
    {
     "metadata": {
      "tags": null
     },
     "name": "stdout",
     "output_type": "stream",
     "text": [
      "Validation accuracy is: 79.1 %\n",
      "Epoch [28/50], Step [100/245], Loss: 0.0667\n",
      "Epoch [28/50], Step [200/245], Loss: 0.0551\n"
     ]
    },
    {
     "metadata": {
      "tags": null
     },
     "name": "stderr",
     "output_type": "stream",
     "text": [
      "\r",
      " 56%|█████▌    | 28/50 [31:18<24:24, 66.57s/it]"
     ]
    },
    {
     "metadata": {
      "tags": null
     },
     "name": "stdout",
     "output_type": "stream",
     "text": [
      "Validation accuracy is: 79.5 %\n",
      "Epoch [29/50], Step [100/245], Loss: 0.0320\n",
      "Epoch [29/50], Step [200/245], Loss: 0.0753\n"
     ]
    },
    {
     "metadata": {
      "tags": null
     },
     "name": "stderr",
     "output_type": "stream",
     "text": [
      "\r",
      " 58%|█████▊    | 29/50 [32:24<23:17, 66.55s/it]"
     ]
    },
    {
     "metadata": {
      "tags": null
     },
     "name": "stdout",
     "output_type": "stream",
     "text": [
      "Validation accuracy is: 79.4 %\n",
      "Epoch [30/50], Step [100/245], Loss: 0.0414\n",
      "Epoch [30/50], Step [200/245], Loss: 0.0379\n"
     ]
    },
    {
     "metadata": {
      "tags": null
     },
     "name": "stderr",
     "output_type": "stream",
     "text": [
      "\r",
      " 60%|██████    | 30/50 [33:31<22:10, 66.54s/it]"
     ]
    },
    {
     "metadata": {
      "tags": null
     },
     "name": "stdout",
     "output_type": "stream",
     "text": [
      "Validation accuracy is: 78.9 %\n",
      "Epoch [31/50], Step [100/245], Loss: 0.0323\n",
      "Epoch [31/50], Step [200/245], Loss: 0.0530\n"
     ]
    },
    {
     "metadata": {
      "tags": null
     },
     "name": "stderr",
     "output_type": "stream",
     "text": [
      "\r",
      " 62%|██████▏   | 31/50 [34:37<21:05, 66.58s/it]"
     ]
    },
    {
     "metadata": {
      "tags": null
     },
     "name": "stdout",
     "output_type": "stream",
     "text": [
      "Validation accuracy is: 79.4 %\n",
      "Epoch [32/50], Step [100/245], Loss: 0.0401\n",
      "Epoch [32/50], Step [200/245], Loss: 0.0304\n"
     ]
    },
    {
     "metadata": {
      "tags": null
     },
     "name": "stderr",
     "output_type": "stream",
     "text": [
      "\r",
      " 64%|██████▍   | 32/50 [35:44<19:59, 66.62s/it]"
     ]
    },
    {
     "metadata": {
      "tags": null
     },
     "name": "stdout",
     "output_type": "stream",
     "text": [
      "Validation accuracy is: 78.2 %\n",
      "Epoch [33/50], Step [100/245], Loss: 0.0222\n",
      "Epoch [33/50], Step [200/245], Loss: 0.0286\n"
     ]
    },
    {
     "metadata": {
      "tags": null
     },
     "name": "stderr",
     "output_type": "stream",
     "text": [
      "\r",
      " 66%|██████▌   | 33/50 [36:51<18:53, 66.65s/it]"
     ]
    },
    {
     "metadata": {
      "tags": null
     },
     "name": "stdout",
     "output_type": "stream",
     "text": [
      "Validation accuracy is: 78.3 %\n",
      "Epoch [34/50], Step [100/245], Loss: 0.0241\n",
      "Epoch [34/50], Step [200/245], Loss: 0.0606\n"
     ]
    },
    {
     "metadata": {
      "tags": null
     },
     "name": "stderr",
     "output_type": "stream",
     "text": [
      "\r",
      " 68%|██████▊   | 34/50 [37:58<17:46, 66.69s/it]"
     ]
    },
    {
     "metadata": {
      "tags": null
     },
     "name": "stdout",
     "output_type": "stream",
     "text": [
      "Validation accuracy is: 78.6 %\n",
      "Epoch [35/50], Step [100/245], Loss: 0.0462\n",
      "Epoch [35/50], Step [200/245], Loss: 0.0423\n"
     ]
    },
    {
     "metadata": {
      "tags": null
     },
     "name": "stderr",
     "output_type": "stream",
     "text": [
      "\r",
      " 70%|███████   | 35/50 [39:04<16:40, 66.70s/it]"
     ]
    },
    {
     "metadata": {
      "tags": null
     },
     "name": "stdout",
     "output_type": "stream",
     "text": [
      "Validation accuracy is: 79.2 %\n",
      "Epoch [36/50], Step [100/245], Loss: 0.0190\n",
      "Epoch [36/50], Step [200/245], Loss: 0.0327\n"
     ]
    },
    {
     "metadata": {
      "tags": null
     },
     "name": "stderr",
     "output_type": "stream",
     "text": [
      "\r",
      " 72%|███████▏  | 36/50 [40:11<15:34, 66.72s/it]"
     ]
    },
    {
     "metadata": {
      "tags": null
     },
     "name": "stdout",
     "output_type": "stream",
     "text": [
      "Validation accuracy is: 80.0 %\n",
      "Epoch [37/50], Step [100/245], Loss: 0.0260\n",
      "Epoch [37/50], Step [200/245], Loss: 0.0327\n"
     ]
    },
    {
     "metadata": {
      "tags": null
     },
     "name": "stderr",
     "output_type": "stream",
     "text": [
      "\r",
      " 74%|███████▍  | 37/50 [41:18<14:27, 66.73s/it]"
     ]
    },
    {
     "metadata": {
      "tags": null
     },
     "name": "stdout",
     "output_type": "stream",
     "text": [
      "Validation accuracy is: 79.3 %\n",
      "Epoch [38/50], Step [100/245], Loss: 0.0288\n",
      "Epoch [38/50], Step [200/245], Loss: 0.0239\n"
     ]
    },
    {
     "metadata": {
      "tags": null
     },
     "name": "stderr",
     "output_type": "stream",
     "text": [
      "\r",
      " 76%|███████▌  | 38/50 [42:25<13:21, 66.76s/it]"
     ]
    },
    {
     "metadata": {
      "tags": null
     },
     "name": "stdout",
     "output_type": "stream",
     "text": [
      "Validation accuracy is: 78.5 %\n",
      "Epoch [39/50], Step [100/245], Loss: 0.0189\n",
      "Epoch [39/50], Step [200/245], Loss: 0.0270\n"
     ]
    },
    {
     "metadata": {
      "tags": null
     },
     "name": "stderr",
     "output_type": "stream",
     "text": [
      "\r",
      " 78%|███████▊  | 39/50 [43:31<12:14, 66.76s/it]"
     ]
    },
    {
     "metadata": {
      "tags": null
     },
     "name": "stdout",
     "output_type": "stream",
     "text": [
      "Validation accuracy is: 80.0 %\n",
      "Epoch [40/50], Step [100/245], Loss: 0.0210\n",
      "Epoch [40/50], Step [200/245], Loss: 0.0260\n"
     ]
    },
    {
     "metadata": {
      "tags": null
     },
     "name": "stderr",
     "output_type": "stream",
     "text": [
      "\r",
      " 80%|████████  | 40/50 [44:38<11:07, 66.78s/it]"
     ]
    },
    {
     "metadata": {
      "tags": null
     },
     "name": "stdout",
     "output_type": "stream",
     "text": [
      "Validation accuracy is: 78.8 %\n",
      "Epoch [41/50], Step [100/245], Loss: 0.0179\n",
      "Epoch [41/50], Step [200/245], Loss: 0.0280\n"
     ]
    },
    {
     "metadata": {
      "tags": null
     },
     "name": "stderr",
     "output_type": "stream",
     "text": [
      "\r",
      " 82%|████████▏ | 41/50 [45:45<10:01, 66.79s/it]"
     ]
    },
    {
     "metadata": {
      "tags": null
     },
     "name": "stdout",
     "output_type": "stream",
     "text": [
      "Validation accuracy is: 78.1 %\n",
      "Epoch [42/50], Step [100/245], Loss: 0.0203\n",
      "Epoch [42/50], Step [200/245], Loss: 0.0225\n"
     ]
    },
    {
     "metadata": {
      "tags": null
     },
     "name": "stderr",
     "output_type": "stream",
     "text": [
      "\r",
      " 84%|████████▍ | 42/50 [46:52<08:54, 66.81s/it]"
     ]
    },
    {
     "metadata": {
      "tags": null
     },
     "name": "stdout",
     "output_type": "stream",
     "text": [
      "Validation accuracy is: 77.8 %\n",
      "Epoch [43/50], Step [100/245], Loss: 0.0176\n",
      "Epoch [43/50], Step [200/245], Loss: 0.0232\n"
     ]
    },
    {
     "metadata": {
      "tags": null
     },
     "name": "stderr",
     "output_type": "stream",
     "text": [
      "\r",
      " 86%|████████▌ | 43/50 [47:58<07:47, 66.76s/it]"
     ]
    },
    {
     "metadata": {
      "tags": null
     },
     "name": "stdout",
     "output_type": "stream",
     "text": [
      "Validation accuracy is: 78.7 %\n",
      "Epoch [44/50], Step [100/245], Loss: 0.0191\n",
      "Epoch [44/50], Step [200/245], Loss: 0.0282\n"
     ]
    },
    {
     "metadata": {
      "tags": null
     },
     "name": "stderr",
     "output_type": "stream",
     "text": [
      "\r",
      " 88%|████████▊ | 44/50 [49:05<06:40, 66.67s/it]"
     ]
    },
    {
     "metadata": {
      "tags": null
     },
     "name": "stdout",
     "output_type": "stream",
     "text": [
      "Validation accuracy is: 79.5 %\n",
      "Epoch [45/50], Step [100/245], Loss: 0.0223\n",
      "Epoch [45/50], Step [200/245], Loss: 0.0157\n"
     ]
    },
    {
     "metadata": {
      "tags": null
     },
     "name": "stderr",
     "output_type": "stream",
     "text": [
      "\r",
      " 90%|█████████ | 45/50 [50:12<05:33, 66.71s/it]"
     ]
    },
    {
     "metadata": {
      "tags": null
     },
     "name": "stdout",
     "output_type": "stream",
     "text": [
      "Validation accuracy is: 78.6 %\n",
      "Epoch [46/50], Step [100/245], Loss: 0.0202\n",
      "Epoch [46/50], Step [200/245], Loss: 0.0208\n"
     ]
    },
    {
     "metadata": {
      "tags": null
     },
     "name": "stderr",
     "output_type": "stream",
     "text": [
      "\r",
      " 92%|█████████▏| 46/50 [51:19<04:26, 66.75s/it]"
     ]
    },
    {
     "metadata": {
      "tags": null
     },
     "name": "stdout",
     "output_type": "stream",
     "text": [
      "Validation accuracy is: 78.5 %\n",
      "Epoch [47/50], Step [100/245], Loss: 0.0199\n",
      "Epoch [47/50], Step [200/245], Loss: 0.0221\n"
     ]
    },
    {
     "metadata": {
      "tags": null
     },
     "name": "stderr",
     "output_type": "stream",
     "text": [
      "\r",
      " 94%|█████████▍| 47/50 [52:25<03:20, 66.75s/it]"
     ]
    },
    {
     "metadata": {
      "tags": null
     },
     "name": "stdout",
     "output_type": "stream",
     "text": [
      "Validation accuracy is: 78.7 %\n",
      "Epoch [48/50], Step [100/245], Loss: 0.0220\n",
      "Epoch [48/50], Step [200/245], Loss: 0.0356\n"
     ]
    },
    {
     "metadata": {
      "tags": null
     },
     "name": "stderr",
     "output_type": "stream",
     "text": [
      "\r",
      " 96%|█████████▌| 48/50 [53:32<02:13, 66.78s/it]"
     ]
    },
    {
     "metadata": {
      "tags": null
     },
     "name": "stdout",
     "output_type": "stream",
     "text": [
      "Validation accuracy is: 78.6 %\n",
      "Epoch [49/50], Step [100/245], Loss: 0.0160\n",
      "Epoch [49/50], Step [200/245], Loss: 0.0139\n"
     ]
    },
    {
     "metadata": {
      "tags": null
     },
     "name": "stderr",
     "output_type": "stream",
     "text": [
      "\r",
      " 98%|█████████▊| 49/50 [54:39<01:06, 66.82s/it]"
     ]
    },
    {
     "name": "stdout",
     "output_type": "stream",
     "text": [
      "Validation accuracy is: 78.7 %\n",
      "Epoch [50/50], Step [100/245], Loss: 0.0165\n"
     ]
    }
   ],
   "source": [
    "num_epochs = 50\n",
    "# Loss and optimizer\n",
    "criterion = nn.CrossEntropyLoss()\n",
    "optimizer = torch.optim.Adam(model.parameters(), lr=learning_rate, weight_decay=reg)\n",
    "\n",
    "# Train the model\n",
    "lr = learning_rate\n",
    "total_step = len(train_loader)\n",
    "loss_train = []\n",
    "loss_val = []\n",
    "best_accuracy = None\n",
    "accuracy_val = []\n",
    "best_model = type(model)(input_size, hidden_size, num_classes, norm_layer=norm_layer) # get a new instance\n",
    "#best_model = ConvNet(input_size, hidden_size, num_classes, norm_layer=norm_layer)\n",
    "for epoch in tqdm(range(num_epochs)):\n",
    "\n",
    "    model.train()\n",
    "\n",
    "    loss_iter = 0\n",
    "    for i, (images, labels) in enumerate(train_loader):\n",
    "        # Move tensors to the configured device\n",
    "        images = images.to(device)\n",
    "        labels = labels.to(device)\n",
    "\n",
    "        # Forward pass\n",
    "        outputs = model(images)\n",
    "        loss = criterion(outputs, labels)\n",
    "\n",
    "        # Backward and optimize\n",
    "        optimizer.zero_grad()\n",
    "        loss.backward()\n",
    "        optimizer.step()\n",
    "\n",
    "        loss_iter += loss.item()\n",
    "        \n",
    "        if (i+1) % 100 == 0:\n",
    "            print ('Epoch [{}/{}], Step [{}/{}], Loss: {:.4f}'\n",
    "                   .format(epoch+1, num_epochs, i+1, total_step, loss.item()))\n",
    "            \n",
    "    loss_train.append(loss_iter/(len(train_loader)*batch_size))\n",
    "\n",
    "    \n",
    "    # Code to update the lr\n",
    "    lr *= learning_rate_decay\n",
    "    update_lr(optimizer, lr)\n",
    "    \n",
    "        \n",
    "    model.eval()\n",
    "    with torch.no_grad():\n",
    "        correct = 0\n",
    "        total = 0\n",
    "        loss_iter = 0\n",
    "        for images, labels in val_loader:\n",
    "            images = images.to(device)\n",
    "            labels = labels.to(device)\n",
    "            \n",
    "            outputs = model(images)\n",
    "            _, predicted = torch.max(outputs.data, 1)\n",
    "            \n",
    "            total += labels.size(0)\n",
    "            correct += (predicted == labels).sum().item()\n",
    "            \n",
    "            loss = criterion(outputs, labels)\n",
    "            loss_iter += loss.item()\n",
    "        \n",
    "        loss_val.append(loss_iter/(len(val_loader)*batch_size))\n",
    "\n",
    "        accuracy = 100 * correct / total\n",
    "        accuracy_val.append(accuracy)\n",
    "        print('Validation accuracy is: {} %'.format(accuracy))\n",
    "        \n",
    "        if epoch == 0 or accuracy >= np.max(accuracy_val):\n",
    "            best_model = model\n",
    "            torch.save(best_model.state_dict(), 'model.ckpt')\n",
    "            if epoch > 0:\n",
    "                print(\n",
    "                    f\"\\tHigher validation accuracy at epoch {epoch+1} with acuracy {accuracy}%\")\n",
    "        # *****END OF YOUR CODE (DO NOT DELETE/MODIFY THIS LINE)*****"
   ]
  },
  {
   "cell_type": "code",
   "execution_count": null,
   "metadata": {
    "id": "dK0hn5Nr_i6r"
   },
   "outputs": [],
   "source": []
  }
 ],
 "metadata": {
  "accelerator": "GPU",
  "colab": {
   "name": "ex3_convnet_final.ipynb",
   "provenance": []
  },
  "kernelspec": {
   "display_name": "Python 3",
   "language": "python",
   "name": "python3"
  },
  "language_info": {
   "codemirror_mode": {
    "name": "ipython",
    "version": 3
   },
   "file_extension": ".py",
   "mimetype": "text/x-python",
   "name": "python",
   "nbconvert_exporter": "python",
   "pygments_lexer": "ipython3",
   "version": "3.8.5"
  },
  "widgets": {
   "application/vnd.jupyter.widget-state+json": {
    "205f053f911d416da49a04218eaaf435": {
     "model_module": "@jupyter-widgets/controls",
     "model_module_version": "1.5.0",
     "model_name": "DescriptionStyleModel",
     "state": {
      "_model_module": "@jupyter-widgets/controls",
      "_model_module_version": "1.5.0",
      "_model_name": "DescriptionStyleModel",
      "_view_count": null,
      "_view_module": "@jupyter-widgets/base",
      "_view_module_version": "1.2.0",
      "_view_name": "StyleView",
      "description_width": ""
     }
    },
    "4dec222f476c44bb96893b971c3d5646": {
     "model_module": "@jupyter-widgets/controls",
     "model_module_version": "1.5.0",
     "model_name": "ProgressStyleModel",
     "state": {
      "_model_module": "@jupyter-widgets/controls",
      "_model_module_version": "1.5.0",
      "_model_name": "ProgressStyleModel",
      "_view_count": null,
      "_view_module": "@jupyter-widgets/base",
      "_view_module_version": "1.2.0",
      "_view_name": "StyleView",
      "bar_color": null,
      "description_width": ""
     }
    },
    "520b585e6c554d90a1622d8b423d5119": {
     "model_module": "@jupyter-widgets/controls",
     "model_module_version": "1.5.0",
     "model_name": "FloatProgressModel",
     "state": {
      "_dom_classes": [],
      "_model_module": "@jupyter-widgets/controls",
      "_model_module_version": "1.5.0",
      "_model_name": "FloatProgressModel",
      "_view_count": null,
      "_view_module": "@jupyter-widgets/controls",
      "_view_module_version": "1.5.0",
      "_view_name": "ProgressView",
      "bar_style": "success",
      "description": "",
      "description_tooltip": null,
      "layout": "IPY_MODEL_b14d614fa6d44f60b356507844fd4e33",
      "max": 170498071,
      "min": 0,
      "orientation": "horizontal",
      "style": "IPY_MODEL_4dec222f476c44bb96893b971c3d5646",
      "value": 170498071
     }
    },
    "5edf04c57b874b09be16d802311ff7b4": {
     "model_module": "@jupyter-widgets/controls",
     "model_module_version": "1.5.0",
     "model_name": "HBoxModel",
     "state": {
      "_dom_classes": [],
      "_model_module": "@jupyter-widgets/controls",
      "_model_module_version": "1.5.0",
      "_model_name": "HBoxModel",
      "_view_count": null,
      "_view_module": "@jupyter-widgets/controls",
      "_view_module_version": "1.5.0",
      "_view_name": "HBoxView",
      "box_style": "",
      "children": [
       "IPY_MODEL_9520398e74634acabd03f82398dc57c8",
       "IPY_MODEL_520b585e6c554d90a1622d8b423d5119",
       "IPY_MODEL_b56e472ba8894285b41064f738e850ab"
      ],
      "layout": "IPY_MODEL_9b53c381277c4df890d9220618adc4c3"
     }
    },
    "617c0bbacd424449b7ca94d7855eb1e6": {
     "model_module": "@jupyter-widgets/base",
     "model_module_version": "1.2.0",
     "model_name": "LayoutModel",
     "state": {
      "_model_module": "@jupyter-widgets/base",
      "_model_module_version": "1.2.0",
      "_model_name": "LayoutModel",
      "_view_count": null,
      "_view_module": "@jupyter-widgets/base",
      "_view_module_version": "1.2.0",
      "_view_name": "LayoutView",
      "align_content": null,
      "align_items": null,
      "align_self": null,
      "border": null,
      "bottom": null,
      "display": null,
      "flex": null,
      "flex_flow": null,
      "grid_area": null,
      "grid_auto_columns": null,
      "grid_auto_flow": null,
      "grid_auto_rows": null,
      "grid_column": null,
      "grid_gap": null,
      "grid_row": null,
      "grid_template_areas": null,
      "grid_template_columns": null,
      "grid_template_rows": null,
      "height": null,
      "justify_content": null,
      "justify_items": null,
      "left": null,
      "margin": null,
      "max_height": null,
      "max_width": null,
      "min_height": null,
      "min_width": null,
      "object_fit": null,
      "object_position": null,
      "order": null,
      "overflow": null,
      "overflow_x": null,
      "overflow_y": null,
      "padding": null,
      "right": null,
      "top": null,
      "visibility": null,
      "width": null
     }
    },
    "67a5efbb2dfc4e578f3de374e7f51b58": {
     "model_module": "@jupyter-widgets/base",
     "model_module_version": "1.2.0",
     "model_name": "LayoutModel",
     "state": {
      "_model_module": "@jupyter-widgets/base",
      "_model_module_version": "1.2.0",
      "_model_name": "LayoutModel",
      "_view_count": null,
      "_view_module": "@jupyter-widgets/base",
      "_view_module_version": "1.2.0",
      "_view_name": "LayoutView",
      "align_content": null,
      "align_items": null,
      "align_self": null,
      "border": null,
      "bottom": null,
      "display": null,
      "flex": null,
      "flex_flow": null,
      "grid_area": null,
      "grid_auto_columns": null,
      "grid_auto_flow": null,
      "grid_auto_rows": null,
      "grid_column": null,
      "grid_gap": null,
      "grid_row": null,
      "grid_template_areas": null,
      "grid_template_columns": null,
      "grid_template_rows": null,
      "height": null,
      "justify_content": null,
      "justify_items": null,
      "left": null,
      "margin": null,
      "max_height": null,
      "max_width": null,
      "min_height": null,
      "min_width": null,
      "object_fit": null,
      "object_position": null,
      "order": null,
      "overflow": null,
      "overflow_x": null,
      "overflow_y": null,
      "padding": null,
      "right": null,
      "top": null,
      "visibility": null,
      "width": null
     }
    },
    "9520398e74634acabd03f82398dc57c8": {
     "model_module": "@jupyter-widgets/controls",
     "model_module_version": "1.5.0",
     "model_name": "HTMLModel",
     "state": {
      "_dom_classes": [],
      "_model_module": "@jupyter-widgets/controls",
      "_model_module_version": "1.5.0",
      "_model_name": "HTMLModel",
      "_view_count": null,
      "_view_module": "@jupyter-widgets/controls",
      "_view_module_version": "1.5.0",
      "_view_name": "HTMLView",
      "description": "",
      "description_tooltip": null,
      "layout": "IPY_MODEL_617c0bbacd424449b7ca94d7855eb1e6",
      "placeholder": "​",
      "style": "IPY_MODEL_b8ca8c30ab0c4091b2d04a77d6506a77",
      "value": ""
     }
    },
    "9b53c381277c4df890d9220618adc4c3": {
     "model_module": "@jupyter-widgets/base",
     "model_module_version": "1.2.0",
     "model_name": "LayoutModel",
     "state": {
      "_model_module": "@jupyter-widgets/base",
      "_model_module_version": "1.2.0",
      "_model_name": "LayoutModel",
      "_view_count": null,
      "_view_module": "@jupyter-widgets/base",
      "_view_module_version": "1.2.0",
      "_view_name": "LayoutView",
      "align_content": null,
      "align_items": null,
      "align_self": null,
      "border": null,
      "bottom": null,
      "display": null,
      "flex": null,
      "flex_flow": null,
      "grid_area": null,
      "grid_auto_columns": null,
      "grid_auto_flow": null,
      "grid_auto_rows": null,
      "grid_column": null,
      "grid_gap": null,
      "grid_row": null,
      "grid_template_areas": null,
      "grid_template_columns": null,
      "grid_template_rows": null,
      "height": null,
      "justify_content": null,
      "justify_items": null,
      "left": null,
      "margin": null,
      "max_height": null,
      "max_width": null,
      "min_height": null,
      "min_width": null,
      "object_fit": null,
      "object_position": null,
      "order": null,
      "overflow": null,
      "overflow_x": null,
      "overflow_y": null,
      "padding": null,
      "right": null,
      "top": null,
      "visibility": null,
      "width": null
     }
    },
    "b14d614fa6d44f60b356507844fd4e33": {
     "model_module": "@jupyter-widgets/base",
     "model_module_version": "1.2.0",
     "model_name": "LayoutModel",
     "state": {
      "_model_module": "@jupyter-widgets/base",
      "_model_module_version": "1.2.0",
      "_model_name": "LayoutModel",
      "_view_count": null,
      "_view_module": "@jupyter-widgets/base",
      "_view_module_version": "1.2.0",
      "_view_name": "LayoutView",
      "align_content": null,
      "align_items": null,
      "align_self": null,
      "border": null,
      "bottom": null,
      "display": null,
      "flex": null,
      "flex_flow": null,
      "grid_area": null,
      "grid_auto_columns": null,
      "grid_auto_flow": null,
      "grid_auto_rows": null,
      "grid_column": null,
      "grid_gap": null,
      "grid_row": null,
      "grid_template_areas": null,
      "grid_template_columns": null,
      "grid_template_rows": null,
      "height": null,
      "justify_content": null,
      "justify_items": null,
      "left": null,
      "margin": null,
      "max_height": null,
      "max_width": null,
      "min_height": null,
      "min_width": null,
      "object_fit": null,
      "object_position": null,
      "order": null,
      "overflow": null,
      "overflow_x": null,
      "overflow_y": null,
      "padding": null,
      "right": null,
      "top": null,
      "visibility": null,
      "width": null
     }
    },
    "b56e472ba8894285b41064f738e850ab": {
     "model_module": "@jupyter-widgets/controls",
     "model_module_version": "1.5.0",
     "model_name": "HTMLModel",
     "state": {
      "_dom_classes": [],
      "_model_module": "@jupyter-widgets/controls",
      "_model_module_version": "1.5.0",
      "_model_name": "HTMLModel",
      "_view_count": null,
      "_view_module": "@jupyter-widgets/controls",
      "_view_module_version": "1.5.0",
      "_view_name": "HTMLView",
      "description": "",
      "description_tooltip": null,
      "layout": "IPY_MODEL_67a5efbb2dfc4e578f3de374e7f51b58",
      "placeholder": "​",
      "style": "IPY_MODEL_205f053f911d416da49a04218eaaf435",
      "value": " 170499072/? [00:04&lt;00:00, 55217838.67it/s]"
     }
    },
    "b8ca8c30ab0c4091b2d04a77d6506a77": {
     "model_module": "@jupyter-widgets/controls",
     "model_module_version": "1.5.0",
     "model_name": "DescriptionStyleModel",
     "state": {
      "_model_module": "@jupyter-widgets/controls",
      "_model_module_version": "1.5.0",
      "_model_name": "DescriptionStyleModel",
      "_view_count": null,
      "_view_module": "@jupyter-widgets/base",
      "_view_module_version": "1.2.0",
      "_view_name": "StyleView",
      "description_width": ""
     }
    }
   }
  }
 },
 "nbformat": 4,
 "nbformat_minor": 1
}
